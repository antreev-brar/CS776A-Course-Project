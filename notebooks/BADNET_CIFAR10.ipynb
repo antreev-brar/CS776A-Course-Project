{
  "cells": [
    {
      "cell_type": "code",
      "execution_count": null,
      "metadata": {
        "colab": {
          "base_uri": "https://localhost:8080/"
        },
        "id": "2GvnLydd4F4B",
        "outputId": "ee71af3f-6d33-4737-cdfd-e46b7614fdf7"
      },
      "outputs": [
        {
          "output_type": "stream",
          "name": "stdout",
          "text": [
            "Collecting adversarial-robustness-toolbox\n",
            "  Downloading adversarial_robustness_toolbox-1.10.1-py3-none-any.whl (1.3 MB)\n",
            "\u001b[?25l\r\u001b[K     |▎                               | 10 kB 35.7 MB/s eta 0:00:01\r\u001b[K     |▌                               | 20 kB 42.0 MB/s eta 0:00:01\r\u001b[K     |▉                               | 30 kB 43.3 MB/s eta 0:00:01\r\u001b[K     |█                               | 40 kB 33.1 MB/s eta 0:00:01\r\u001b[K     |█▎                              | 51 kB 35.8 MB/s eta 0:00:01\r\u001b[K     |█▋                              | 61 kB 39.9 MB/s eta 0:00:01\r\u001b[K     |█▉                              | 71 kB 30.6 MB/s eta 0:00:01\r\u001b[K     |██                              | 81 kB 32.3 MB/s eta 0:00:01\r\u001b[K     |██▍                             | 92 kB 34.5 MB/s eta 0:00:01\r\u001b[K     |██▋                             | 102 kB 34.1 MB/s eta 0:00:01\r\u001b[K     |██▉                             | 112 kB 34.1 MB/s eta 0:00:01\r\u001b[K     |███▏                            | 122 kB 34.1 MB/s eta 0:00:01\r\u001b[K     |███▍                            | 133 kB 34.1 MB/s eta 0:00:01\r\u001b[K     |███▋                            | 143 kB 34.1 MB/s eta 0:00:01\r\u001b[K     |████                            | 153 kB 34.1 MB/s eta 0:00:01\r\u001b[K     |████▏                           | 163 kB 34.1 MB/s eta 0:00:01\r\u001b[K     |████▌                           | 174 kB 34.1 MB/s eta 0:00:01\r\u001b[K     |████▊                           | 184 kB 34.1 MB/s eta 0:00:01\r\u001b[K     |█████                           | 194 kB 34.1 MB/s eta 0:00:01\r\u001b[K     |█████▎                          | 204 kB 34.1 MB/s eta 0:00:01\r\u001b[K     |█████▌                          | 215 kB 34.1 MB/s eta 0:00:01\r\u001b[K     |█████▊                          | 225 kB 34.1 MB/s eta 0:00:01\r\u001b[K     |██████                          | 235 kB 34.1 MB/s eta 0:00:01\r\u001b[K     |██████▎                         | 245 kB 34.1 MB/s eta 0:00:01\r\u001b[K     |██████▌                         | 256 kB 34.1 MB/s eta 0:00:01\r\u001b[K     |██████▉                         | 266 kB 34.1 MB/s eta 0:00:01\r\u001b[K     |███████                         | 276 kB 34.1 MB/s eta 0:00:01\r\u001b[K     |███████▎                        | 286 kB 34.1 MB/s eta 0:00:01\r\u001b[K     |███████▋                        | 296 kB 34.1 MB/s eta 0:00:01\r\u001b[K     |███████▉                        | 307 kB 34.1 MB/s eta 0:00:01\r\u001b[K     |████████                        | 317 kB 34.1 MB/s eta 0:00:01\r\u001b[K     |████████▍                       | 327 kB 34.1 MB/s eta 0:00:01\r\u001b[K     |████████▋                       | 337 kB 34.1 MB/s eta 0:00:01\r\u001b[K     |█████████                       | 348 kB 34.1 MB/s eta 0:00:01\r\u001b[K     |█████████▏                      | 358 kB 34.1 MB/s eta 0:00:01\r\u001b[K     |█████████▍                      | 368 kB 34.1 MB/s eta 0:00:01\r\u001b[K     |█████████▊                      | 378 kB 34.1 MB/s eta 0:00:01\r\u001b[K     |██████████                      | 389 kB 34.1 MB/s eta 0:00:01\r\u001b[K     |██████████▏                     | 399 kB 34.1 MB/s eta 0:00:01\r\u001b[K     |██████████▌                     | 409 kB 34.1 MB/s eta 0:00:01\r\u001b[K     |██████████▊                     | 419 kB 34.1 MB/s eta 0:00:01\r\u001b[K     |███████████                     | 430 kB 34.1 MB/s eta 0:00:01\r\u001b[K     |███████████▎                    | 440 kB 34.1 MB/s eta 0:00:01\r\u001b[K     |███████████▌                    | 450 kB 34.1 MB/s eta 0:00:01\r\u001b[K     |███████████▊                    | 460 kB 34.1 MB/s eta 0:00:01\r\u001b[K     |████████████                    | 471 kB 34.1 MB/s eta 0:00:01\r\u001b[K     |████████████▎                   | 481 kB 34.1 MB/s eta 0:00:01\r\u001b[K     |████████████▌                   | 491 kB 34.1 MB/s eta 0:00:01\r\u001b[K     |████████████▉                   | 501 kB 34.1 MB/s eta 0:00:01\r\u001b[K     |█████████████                   | 512 kB 34.1 MB/s eta 0:00:01\r\u001b[K     |█████████████▍                  | 522 kB 34.1 MB/s eta 0:00:01\r\u001b[K     |█████████████▋                  | 532 kB 34.1 MB/s eta 0:00:01\r\u001b[K     |█████████████▉                  | 542 kB 34.1 MB/s eta 0:00:01\r\u001b[K     |██████████████▏                 | 552 kB 34.1 MB/s eta 0:00:01\r\u001b[K     |██████████████▍                 | 563 kB 34.1 MB/s eta 0:00:01\r\u001b[K     |██████████████▋                 | 573 kB 34.1 MB/s eta 0:00:01\r\u001b[K     |███████████████                 | 583 kB 34.1 MB/s eta 0:00:01\r\u001b[K     |███████████████▏                | 593 kB 34.1 MB/s eta 0:00:01\r\u001b[K     |███████████████▍                | 604 kB 34.1 MB/s eta 0:00:01\r\u001b[K     |███████████████▊                | 614 kB 34.1 MB/s eta 0:00:01\r\u001b[K     |████████████████                | 624 kB 34.1 MB/s eta 0:00:01\r\u001b[K     |████████████████▏               | 634 kB 34.1 MB/s eta 0:00:01\r\u001b[K     |████████████████▌               | 645 kB 34.1 MB/s eta 0:00:01\r\u001b[K     |████████████████▊               | 655 kB 34.1 MB/s eta 0:00:01\r\u001b[K     |█████████████████               | 665 kB 34.1 MB/s eta 0:00:01\r\u001b[K     |█████████████████▎              | 675 kB 34.1 MB/s eta 0:00:01\r\u001b[K     |█████████████████▌              | 686 kB 34.1 MB/s eta 0:00:01\r\u001b[K     |█████████████████▉              | 696 kB 34.1 MB/s eta 0:00:01\r\u001b[K     |██████████████████              | 706 kB 34.1 MB/s eta 0:00:01\r\u001b[K     |██████████████████▎             | 716 kB 34.1 MB/s eta 0:00:01\r\u001b[K     |██████████████████▋             | 727 kB 34.1 MB/s eta 0:00:01\r\u001b[K     |██████████████████▉             | 737 kB 34.1 MB/s eta 0:00:01\r\u001b[K     |███████████████████             | 747 kB 34.1 MB/s eta 0:00:01\r\u001b[K     |███████████████████▍            | 757 kB 34.1 MB/s eta 0:00:01\r\u001b[K     |███████████████████▋            | 768 kB 34.1 MB/s eta 0:00:01\r\u001b[K     |███████████████████▉            | 778 kB 34.1 MB/s eta 0:00:01\r\u001b[K     |████████████████████▏           | 788 kB 34.1 MB/s eta 0:00:01\r\u001b[K     |████████████████████▍           | 798 kB 34.1 MB/s eta 0:00:01\r\u001b[K     |████████████████████▋           | 808 kB 34.1 MB/s eta 0:00:01\r\u001b[K     |█████████████████████           | 819 kB 34.1 MB/s eta 0:00:01\r\u001b[K     |█████████████████████▏          | 829 kB 34.1 MB/s eta 0:00:01\r\u001b[K     |█████████████████████▌          | 839 kB 34.1 MB/s eta 0:00:01\r\u001b[K     |█████████████████████▊          | 849 kB 34.1 MB/s eta 0:00:01\r\u001b[K     |██████████████████████          | 860 kB 34.1 MB/s eta 0:00:01\r\u001b[K     |██████████████████████▎         | 870 kB 34.1 MB/s eta 0:00:01\r\u001b[K     |██████████████████████▌         | 880 kB 34.1 MB/s eta 0:00:01\r\u001b[K     |██████████████████████▊         | 890 kB 34.1 MB/s eta 0:00:01\r\u001b[K     |███████████████████████         | 901 kB 34.1 MB/s eta 0:00:01\r\u001b[K     |███████████████████████▎        | 911 kB 34.1 MB/s eta 0:00:01\r\u001b[K     |███████████████████████▌        | 921 kB 34.1 MB/s eta 0:00:01\r\u001b[K     |███████████████████████▉        | 931 kB 34.1 MB/s eta 0:00:01\r\u001b[K     |████████████████████████        | 942 kB 34.1 MB/s eta 0:00:01\r\u001b[K     |████████████████████████▎       | 952 kB 34.1 MB/s eta 0:00:01\r\u001b[K     |████████████████████████▋       | 962 kB 34.1 MB/s eta 0:00:01\r\u001b[K     |████████████████████████▉       | 972 kB 34.1 MB/s eta 0:00:01\r\u001b[K     |█████████████████████████       | 983 kB 34.1 MB/s eta 0:00:01\r\u001b[K     |█████████████████████████▍      | 993 kB 34.1 MB/s eta 0:00:01\r\u001b[K     |█████████████████████████▋      | 1.0 MB 34.1 MB/s eta 0:00:01\r\u001b[K     |██████████████████████████      | 1.0 MB 34.1 MB/s eta 0:00:01\r\u001b[K     |██████████████████████████▏     | 1.0 MB 34.1 MB/s eta 0:00:01\r\u001b[K     |██████████████████████████▍     | 1.0 MB 34.1 MB/s eta 0:00:01\r\u001b[K     |██████████████████████████▊     | 1.0 MB 34.1 MB/s eta 0:00:01\r\u001b[K     |███████████████████████████     | 1.1 MB 34.1 MB/s eta 0:00:01\r\u001b[K     |███████████████████████████▏    | 1.1 MB 34.1 MB/s eta 0:00:01\r\u001b[K     |███████████████████████████▌    | 1.1 MB 34.1 MB/s eta 0:00:01\r\u001b[K     |███████████████████████████▊    | 1.1 MB 34.1 MB/s eta 0:00:01\r\u001b[K     |████████████████████████████    | 1.1 MB 34.1 MB/s eta 0:00:01\r\u001b[K     |████████████████████████████▎   | 1.1 MB 34.1 MB/s eta 0:00:01\r\u001b[K     |████████████████████████████▌   | 1.1 MB 34.1 MB/s eta 0:00:01\r\u001b[K     |████████████████████████████▊   | 1.1 MB 34.1 MB/s eta 0:00:01\r\u001b[K     |█████████████████████████████   | 1.1 MB 34.1 MB/s eta 0:00:01\r\u001b[K     |█████████████████████████████▎  | 1.1 MB 34.1 MB/s eta 0:00:01\r\u001b[K     |█████████████████████████████▌  | 1.2 MB 34.1 MB/s eta 0:00:01\r\u001b[K     |█████████████████████████████▉  | 1.2 MB 34.1 MB/s eta 0:00:01\r\u001b[K     |██████████████████████████████  | 1.2 MB 34.1 MB/s eta 0:00:01\r\u001b[K     |██████████████████████████████▍ | 1.2 MB 34.1 MB/s eta 0:00:01\r\u001b[K     |██████████████████████████████▋ | 1.2 MB 34.1 MB/s eta 0:00:01\r\u001b[K     |██████████████████████████████▉ | 1.2 MB 34.1 MB/s eta 0:00:01\r\u001b[K     |███████████████████████████████▏| 1.2 MB 34.1 MB/s eta 0:00:01\r\u001b[K     |███████████████████████████████▍| 1.2 MB 34.1 MB/s eta 0:00:01\r\u001b[K     |███████████████████████████████▋| 1.2 MB 34.1 MB/s eta 0:00:01\r\u001b[K     |████████████████████████████████| 1.2 MB 34.1 MB/s eta 0:00:01\r\u001b[K     |████████████████████████████████| 1.3 MB 34.1 MB/s \n",
            "\u001b[?25hRequirement already satisfied: tensorflow in /usr/local/lib/python3.7/dist-packages (2.8.0)\n",
            "Requirement already satisfied: Keras in /usr/local/lib/python3.7/dist-packages (2.8.0)\n",
            "Requirement already satisfied: matplotlib in /usr/local/lib/python3.7/dist-packages (3.2.2)\n",
            "Requirement already satisfied: ipywidgets in /usr/local/lib/python3.7/dist-packages (7.7.0)\n",
            "Requirement already satisfied: tqdm in /usr/local/lib/python3.7/dist-packages (from adversarial-robustness-toolbox) (4.64.0)\n",
            "Collecting numba>=0.53.1\n",
            "  Downloading numba-0.55.1-1-cp37-cp37m-manylinux2014_x86_64.manylinux_2_17_x86_64.whl (3.3 MB)\n",
            "\u001b[K     |████████████████████████████████| 3.3 MB 31.6 MB/s \n",
            "\u001b[?25hRequirement already satisfied: six in /usr/local/lib/python3.7/dist-packages (from adversarial-robustness-toolbox) (1.15.0)\n",
            "Requirement already satisfied: setuptools in /usr/local/lib/python3.7/dist-packages (from adversarial-robustness-toolbox) (57.4.0)\n",
            "Requirement already satisfied: numpy>=1.18.0 in /usr/local/lib/python3.7/dist-packages (from adversarial-robustness-toolbox) (1.21.6)\n",
            "Requirement already satisfied: scikit-learn<1.1.0,>=0.22.2 in /usr/local/lib/python3.7/dist-packages (from adversarial-robustness-toolbox) (1.0.2)\n",
            "Requirement already satisfied: scipy>=1.4.1 in /usr/local/lib/python3.7/dist-packages (from adversarial-robustness-toolbox) (1.4.1)\n",
            "Collecting llvmlite<0.39,>=0.38.0rc1\n",
            "  Downloading llvmlite-0.38.0-cp37-cp37m-manylinux_2_17_x86_64.manylinux2014_x86_64.whl (34.5 MB)\n",
            "\u001b[K     |████████████████████████████████| 34.5 MB 15 kB/s \n",
            "\u001b[?25hRequirement already satisfied: joblib>=0.11 in /usr/local/lib/python3.7/dist-packages (from scikit-learn<1.1.0,>=0.22.2->adversarial-robustness-toolbox) (1.1.0)\n",
            "Requirement already satisfied: threadpoolctl>=2.0.0 in /usr/local/lib/python3.7/dist-packages (from scikit-learn<1.1.0,>=0.22.2->adversarial-robustness-toolbox) (3.1.0)\n",
            "Requirement already satisfied: astunparse>=1.6.0 in /usr/local/lib/python3.7/dist-packages (from tensorflow) (1.6.3)\n",
            "Requirement already satisfied: tensorboard<2.9,>=2.8 in /usr/local/lib/python3.7/dist-packages (from tensorflow) (2.8.0)\n",
            "Requirement already satisfied: flatbuffers>=1.12 in /usr/local/lib/python3.7/dist-packages (from tensorflow) (2.0)\n",
            "Requirement already satisfied: opt-einsum>=2.3.2 in /usr/local/lib/python3.7/dist-packages (from tensorflow) (3.3.0)\n",
            "Requirement already satisfied: tensorflow-io-gcs-filesystem>=0.23.1 in /usr/local/lib/python3.7/dist-packages (from tensorflow) (0.24.0)\n",
            "Requirement already satisfied: gast>=0.2.1 in /usr/local/lib/python3.7/dist-packages (from tensorflow) (0.5.3)\n",
            "Requirement already satisfied: libclang>=9.0.1 in /usr/local/lib/python3.7/dist-packages (from tensorflow) (13.0.0)\n",
            "Requirement already satisfied: termcolor>=1.1.0 in /usr/local/lib/python3.7/dist-packages (from tensorflow) (1.1.0)\n",
            "Requirement already satisfied: keras-preprocessing>=1.1.1 in /usr/local/lib/python3.7/dist-packages (from tensorflow) (1.1.2)\n",
            "Requirement already satisfied: google-pasta>=0.1.1 in /usr/local/lib/python3.7/dist-packages (from tensorflow) (0.2.0)\n",
            "Requirement already satisfied: h5py>=2.9.0 in /usr/local/lib/python3.7/dist-packages (from tensorflow) (3.1.0)\n",
            "Requirement already satisfied: typing-extensions>=3.6.6 in /usr/local/lib/python3.7/dist-packages (from tensorflow) (4.1.1)\n",
            "Requirement already satisfied: grpcio<2.0,>=1.24.3 in /usr/local/lib/python3.7/dist-packages (from tensorflow) (1.44.0)\n",
            "Requirement already satisfied: wrapt>=1.11.0 in /usr/local/lib/python3.7/dist-packages (from tensorflow) (1.14.0)\n",
            "Requirement already satisfied: absl-py>=0.4.0 in /usr/local/lib/python3.7/dist-packages (from tensorflow) (1.0.0)\n",
            "Collecting tf-estimator-nightly==2.8.0.dev2021122109\n",
            "  Downloading tf_estimator_nightly-2.8.0.dev2021122109-py2.py3-none-any.whl (462 kB)\n",
            "\u001b[K     |████████████████████████████████| 462 kB 72.8 MB/s \n",
            "\u001b[?25hRequirement already satisfied: protobuf>=3.9.2 in /usr/local/lib/python3.7/dist-packages (from tensorflow) (3.17.3)\n",
            "Requirement already satisfied: wheel<1.0,>=0.23.0 in /usr/local/lib/python3.7/dist-packages (from astunparse>=1.6.0->tensorflow) (0.37.1)\n",
            "Requirement already satisfied: cached-property in /usr/local/lib/python3.7/dist-packages (from h5py>=2.9.0->tensorflow) (1.5.2)\n",
            "Requirement already satisfied: tensorboard-data-server<0.7.0,>=0.6.0 in /usr/local/lib/python3.7/dist-packages (from tensorboard<2.9,>=2.8->tensorflow) (0.6.1)\n",
            "Requirement already satisfied: tensorboard-plugin-wit>=1.6.0 in /usr/local/lib/python3.7/dist-packages (from tensorboard<2.9,>=2.8->tensorflow) (1.8.1)\n",
            "Requirement already satisfied: requests<3,>=2.21.0 in /usr/local/lib/python3.7/dist-packages (from tensorboard<2.9,>=2.8->tensorflow) (2.23.0)\n",
            "Requirement already satisfied: markdown>=2.6.8 in /usr/local/lib/python3.7/dist-packages (from tensorboard<2.9,>=2.8->tensorflow) (3.3.6)\n",
            "Requirement already satisfied: werkzeug>=0.11.15 in /usr/local/lib/python3.7/dist-packages (from tensorboard<2.9,>=2.8->tensorflow) (1.0.1)\n",
            "Requirement already satisfied: google-auth-oauthlib<0.5,>=0.4.1 in /usr/local/lib/python3.7/dist-packages (from tensorboard<2.9,>=2.8->tensorflow) (0.4.6)\n",
            "Requirement already satisfied: google-auth<3,>=1.6.3 in /usr/local/lib/python3.7/dist-packages (from tensorboard<2.9,>=2.8->tensorflow) (1.35.0)\n",
            "Requirement already satisfied: pyasn1-modules>=0.2.1 in /usr/local/lib/python3.7/dist-packages (from google-auth<3,>=1.6.3->tensorboard<2.9,>=2.8->tensorflow) (0.2.8)\n",
            "Requirement already satisfied: rsa<5,>=3.1.4 in /usr/local/lib/python3.7/dist-packages (from google-auth<3,>=1.6.3->tensorboard<2.9,>=2.8->tensorflow) (4.8)\n",
            "Requirement already satisfied: cachetools<5.0,>=2.0.0 in /usr/local/lib/python3.7/dist-packages (from google-auth<3,>=1.6.3->tensorboard<2.9,>=2.8->tensorflow) (4.2.4)\n",
            "Requirement already satisfied: requests-oauthlib>=0.7.0 in /usr/local/lib/python3.7/dist-packages (from google-auth-oauthlib<0.5,>=0.4.1->tensorboard<2.9,>=2.8->tensorflow) (1.3.1)\n",
            "Requirement already satisfied: importlib-metadata>=4.4 in /usr/local/lib/python3.7/dist-packages (from markdown>=2.6.8->tensorboard<2.9,>=2.8->tensorflow) (4.11.3)\n",
            "Requirement already satisfied: zipp>=0.5 in /usr/local/lib/python3.7/dist-packages (from importlib-metadata>=4.4->markdown>=2.6.8->tensorboard<2.9,>=2.8->tensorflow) (3.8.0)\n",
            "Requirement already satisfied: pyasn1<0.5.0,>=0.4.6 in /usr/local/lib/python3.7/dist-packages (from pyasn1-modules>=0.2.1->google-auth<3,>=1.6.3->tensorboard<2.9,>=2.8->tensorflow) (0.4.8)\n",
            "Requirement already satisfied: urllib3!=1.25.0,!=1.25.1,<1.26,>=1.21.1 in /usr/local/lib/python3.7/dist-packages (from requests<3,>=2.21.0->tensorboard<2.9,>=2.8->tensorflow) (1.24.3)\n",
            "Requirement already satisfied: certifi>=2017.4.17 in /usr/local/lib/python3.7/dist-packages (from requests<3,>=2.21.0->tensorboard<2.9,>=2.8->tensorflow) (2021.10.8)\n",
            "Requirement already satisfied: idna<3,>=2.5 in /usr/local/lib/python3.7/dist-packages (from requests<3,>=2.21.0->tensorboard<2.9,>=2.8->tensorflow) (2.10)\n",
            "Requirement already satisfied: chardet<4,>=3.0.2 in /usr/local/lib/python3.7/dist-packages (from requests<3,>=2.21.0->tensorboard<2.9,>=2.8->tensorflow) (3.0.4)\n",
            "Requirement already satisfied: oauthlib>=3.0.0 in /usr/local/lib/python3.7/dist-packages (from requests-oauthlib>=0.7.0->google-auth-oauthlib<0.5,>=0.4.1->tensorboard<2.9,>=2.8->tensorflow) (3.2.0)\n",
            "Requirement already satisfied: pyparsing!=2.0.4,!=2.1.2,!=2.1.6,>=2.0.1 in /usr/local/lib/python3.7/dist-packages (from matplotlib) (3.0.8)\n",
            "Requirement already satisfied: python-dateutil>=2.1 in /usr/local/lib/python3.7/dist-packages (from matplotlib) (2.8.2)\n",
            "Requirement already satisfied: kiwisolver>=1.0.1 in /usr/local/lib/python3.7/dist-packages (from matplotlib) (1.4.2)\n",
            "Requirement already satisfied: cycler>=0.10 in /usr/local/lib/python3.7/dist-packages (from matplotlib) (0.11.0)\n",
            "Requirement already satisfied: nbformat>=4.2.0 in /usr/local/lib/python3.7/dist-packages (from ipywidgets) (5.3.0)\n",
            "Requirement already satisfied: jupyterlab-widgets>=1.0.0 in /usr/local/lib/python3.7/dist-packages (from ipywidgets) (1.1.0)\n",
            "Requirement already satisfied: traitlets>=4.3.1 in /usr/local/lib/python3.7/dist-packages (from ipywidgets) (5.1.1)\n",
            "Requirement already satisfied: ipython>=4.0.0 in /usr/local/lib/python3.7/dist-packages (from ipywidgets) (5.5.0)\n",
            "Requirement already satisfied: widgetsnbextension~=3.6.0 in /usr/local/lib/python3.7/dist-packages (from ipywidgets) (3.6.0)\n",
            "Requirement already satisfied: ipykernel>=4.5.1 in /usr/local/lib/python3.7/dist-packages (from ipywidgets) (4.10.1)\n",
            "Requirement already satisfied: ipython-genutils~=0.2.0 in /usr/local/lib/python3.7/dist-packages (from ipywidgets) (0.2.0)\n",
            "Requirement already satisfied: tornado>=4.0 in /usr/local/lib/python3.7/dist-packages (from ipykernel>=4.5.1->ipywidgets) (5.1.1)\n",
            "Requirement already satisfied: jupyter-client in /usr/local/lib/python3.7/dist-packages (from ipykernel>=4.5.1->ipywidgets) (5.3.5)\n",
            "Requirement already satisfied: decorator in /usr/local/lib/python3.7/dist-packages (from ipython>=4.0.0->ipywidgets) (4.4.2)\n",
            "Requirement already satisfied: pexpect in /usr/local/lib/python3.7/dist-packages (from ipython>=4.0.0->ipywidgets) (4.8.0)\n",
            "Requirement already satisfied: prompt-toolkit<2.0.0,>=1.0.4 in /usr/local/lib/python3.7/dist-packages (from ipython>=4.0.0->ipywidgets) (1.0.18)\n",
            "Requirement already satisfied: pickleshare in /usr/local/lib/python3.7/dist-packages (from ipython>=4.0.0->ipywidgets) (0.7.5)\n",
            "Requirement already satisfied: pygments in /usr/local/lib/python3.7/dist-packages (from ipython>=4.0.0->ipywidgets) (2.6.1)\n",
            "Requirement already satisfied: simplegeneric>0.8 in /usr/local/lib/python3.7/dist-packages (from ipython>=4.0.0->ipywidgets) (0.8.1)\n",
            "Requirement already satisfied: jupyter-core in /usr/local/lib/python3.7/dist-packages (from nbformat>=4.2.0->ipywidgets) (4.9.2)\n",
            "Requirement already satisfied: fastjsonschema in /usr/local/lib/python3.7/dist-packages (from nbformat>=4.2.0->ipywidgets) (2.15.3)\n",
            "Requirement already satisfied: jsonschema>=2.6 in /usr/local/lib/python3.7/dist-packages (from nbformat>=4.2.0->ipywidgets) (4.3.3)\n",
            "Requirement already satisfied: importlib-resources>=1.4.0 in /usr/local/lib/python3.7/dist-packages (from jsonschema>=2.6->nbformat>=4.2.0->ipywidgets) (5.7.0)\n",
            "Requirement already satisfied: attrs>=17.4.0 in /usr/local/lib/python3.7/dist-packages (from jsonschema>=2.6->nbformat>=4.2.0->ipywidgets) (21.4.0)\n",
            "Requirement already satisfied: pyrsistent!=0.17.0,!=0.17.1,!=0.17.2,>=0.14.0 in /usr/local/lib/python3.7/dist-packages (from jsonschema>=2.6->nbformat>=4.2.0->ipywidgets) (0.18.1)\n",
            "Requirement already satisfied: wcwidth in /usr/local/lib/python3.7/dist-packages (from prompt-toolkit<2.0.0,>=1.0.4->ipython>=4.0.0->ipywidgets) (0.2.5)\n",
            "Requirement already satisfied: notebook>=4.4.1 in /usr/local/lib/python3.7/dist-packages (from widgetsnbextension~=3.6.0->ipywidgets) (5.3.1)\n",
            "Requirement already satisfied: terminado>=0.8.1 in /usr/local/lib/python3.7/dist-packages (from notebook>=4.4.1->widgetsnbextension~=3.6.0->ipywidgets) (0.13.3)\n",
            "Requirement already satisfied: nbconvert in /usr/local/lib/python3.7/dist-packages (from notebook>=4.4.1->widgetsnbextension~=3.6.0->ipywidgets) (5.6.1)\n",
            "Requirement already satisfied: jinja2 in /usr/local/lib/python3.7/dist-packages (from notebook>=4.4.1->widgetsnbextension~=3.6.0->ipywidgets) (2.11.3)\n",
            "Requirement already satisfied: Send2Trash in /usr/local/lib/python3.7/dist-packages (from notebook>=4.4.1->widgetsnbextension~=3.6.0->ipywidgets) (1.8.0)\n",
            "Requirement already satisfied: pyzmq>=13 in /usr/local/lib/python3.7/dist-packages (from jupyter-client->ipykernel>=4.5.1->ipywidgets) (22.3.0)\n",
            "Requirement already satisfied: ptyprocess in /usr/local/lib/python3.7/dist-packages (from terminado>=0.8.1->notebook>=4.4.1->widgetsnbextension~=3.6.0->ipywidgets) (0.7.0)\n",
            "Requirement already satisfied: MarkupSafe>=0.23 in /usr/local/lib/python3.7/dist-packages (from jinja2->notebook>=4.4.1->widgetsnbextension~=3.6.0->ipywidgets) (2.0.1)\n",
            "Requirement already satisfied: defusedxml in /usr/local/lib/python3.7/dist-packages (from nbconvert->notebook>=4.4.1->widgetsnbextension~=3.6.0->ipywidgets) (0.7.1)\n",
            "Requirement already satisfied: bleach in /usr/local/lib/python3.7/dist-packages (from nbconvert->notebook>=4.4.1->widgetsnbextension~=3.6.0->ipywidgets) (5.0.0)\n",
            "Requirement already satisfied: mistune<2,>=0.8.1 in /usr/local/lib/python3.7/dist-packages (from nbconvert->notebook>=4.4.1->widgetsnbextension~=3.6.0->ipywidgets) (0.8.4)\n",
            "Requirement already satisfied: entrypoints>=0.2.2 in /usr/local/lib/python3.7/dist-packages (from nbconvert->notebook>=4.4.1->widgetsnbextension~=3.6.0->ipywidgets) (0.4)\n",
            "Requirement already satisfied: testpath in /usr/local/lib/python3.7/dist-packages (from nbconvert->notebook>=4.4.1->widgetsnbextension~=3.6.0->ipywidgets) (0.6.0)\n",
            "Requirement already satisfied: pandocfilters>=1.4.1 in /usr/local/lib/python3.7/dist-packages (from nbconvert->notebook>=4.4.1->widgetsnbextension~=3.6.0->ipywidgets) (1.5.0)\n",
            "Requirement already satisfied: webencodings in /usr/local/lib/python3.7/dist-packages (from bleach->nbconvert->notebook>=4.4.1->widgetsnbextension~=3.6.0->ipywidgets) (0.5.1)\n",
            "Installing collected packages: llvmlite, tf-estimator-nightly, numba, adversarial-robustness-toolbox\n",
            "  Attempting uninstall: llvmlite\n",
            "    Found existing installation: llvmlite 0.34.0\n",
            "    Uninstalling llvmlite-0.34.0:\n",
            "      Successfully uninstalled llvmlite-0.34.0\n",
            "  Attempting uninstall: numba\n",
            "    Found existing installation: numba 0.51.2\n",
            "    Uninstalling numba-0.51.2:\n",
            "      Successfully uninstalled numba-0.51.2\n",
            "Successfully installed adversarial-robustness-toolbox-1.10.1 llvmlite-0.38.0 numba-0.55.1 tf-estimator-nightly-2.8.0.dev2021122109\n"
          ]
        }
      ],
      "source": [
        "!pip3 install adversarial-robustness-toolbox tensorflow Keras matplotlib ipywidgets"
      ]
    },
    {
      "cell_type": "code",
      "execution_count": null,
      "metadata": {
        "id": "UzvKzc819gxH"
      },
      "outputs": [],
      "source": [
        "import os, sys\n",
        "from os.path import abspath\n",
        "\n",
        "module_path = os.path.abspath(os.path.join('..'))\n",
        "if module_path not in sys.path:\n",
        "    sys.path.append(module_path)\n",
        "\n",
        "import warnings\n",
        "warnings.filterwarnings('ignore')\n",
        "\n",
        "from keras.models import load_model\n",
        "\n",
        "from art import config\n",
        "from art.utils import load_dataset, get_file\n",
        "from art.estimators.classification import KerasClassifier\n",
        "from art.attacks.poisoning import FeatureCollisionAttack\n",
        "\n",
        "import numpy as np\n",
        "\n",
        "%matplotlib inline\n",
        "import matplotlib.pyplot as plt\n",
        "\n",
        "np.random.seed(301)\n",
        "from __future__ import absolute_import, division, print_function, unicode_literals\n",
        "\n",
        "import os, sys\n",
        "from os.path import abspath\n",
        "\n",
        "module_path = os.path.abspath(os.path.join('..'))\n",
        "if module_path not in sys.path:\n",
        "    sys.path.append(module_path)\n",
        "\n",
        "import warnings\n",
        "warnings.filterwarnings('ignore')\n",
        "\n",
        "# Disable TensorFlow eager execution:\n",
        "import tensorflow as tf\n",
        "if tf.executing_eagerly():\n",
        "    tf.compat.v1.disable_eager_execution()\n",
        "\n",
        "import keras.backend as k\n",
        "from keras.models import Sequential\n",
        "from keras.layers import Dense, Flatten, Conv2D, MaxPooling2D, Activation, Dropout\n",
        "import numpy as np\n",
        "import matplotlib.pyplot as plt\n",
        "%matplotlib inline\n",
        "from mpl_toolkits import mplot3d\n",
        "\n",
        "from art.estimators.classification import KerasClassifier\n",
        "from art.attacks.poisoning import PoisoningAttackBackdoor\n",
        "from art.attacks.poisoning.perturbations import add_pattern_bd, add_single_bd, insert_image\n",
        "from art.utils import load_mnist, preprocess\n",
        "from art.defences.detector.poison import ActivationDefence"
      ]
    },
    {
      "cell_type": "code",
      "execution_count": null,
      "metadata": {
        "id": "cU25CerM7UcJ"
      },
      "outputs": [],
      "source": [
        "(x_raw, y_raw), (x_raw_test, y_raw_test), min_, max_ = load_dataset('cifar10')\n",
        "\n",
        "# Random Selection:\n",
        "n_train = np.shape(x_raw)[0]\n",
        "num_selection = 30000\n",
        "random_selection_indices = np.random.choice(n_train, num_selection)\n",
        "x_raw = x_raw[random_selection_indices]\n",
        "y_raw = y_raw[random_selection_indices]\n",
        "\n",
        "BACKDOOR_TYPE = \"pattern\" # one of ['pattern', 'pixel', 'image']"
      ]
    },
    {
      "cell_type": "code",
      "execution_count": null,
      "metadata": {
        "id": "ZQXhNJRs7adl"
      },
      "outputs": [],
      "source": [
        "y_temp=[]\n",
        "for i in range(len(y_raw)):\n",
        "  for j in range(len(y_raw[i])):\n",
        "    if y_raw[i][j]==1:\n",
        "      y_temp.append(j)\n",
        "y_temp=np.array(y_temp)\n",
        "y_raw=y_temp"
      ]
    },
    {
      "cell_type": "code",
      "execution_count": null,
      "metadata": {
        "id": "WYToHBGB7fsa"
      },
      "outputs": [],
      "source": [
        "y_temp=[]\n",
        "for i in range(len(y_raw_test)):\n",
        "  for j in range(len(y_raw_test[i])):\n",
        "    if y_raw_test[i][j]==1:\n",
        "      y_temp.append(j)\n",
        "y_temp=np.array(y_temp)\n",
        "y_raw_test=y_temp"
      ]
    },
    {
      "cell_type": "code",
      "execution_count": null,
      "metadata": {
        "id": "fNghYUqy_1ZW"
      },
      "outputs": [],
      "source": [
        "class_descr = ['airplane', 'automobile', 'bird', 'cat', 'deer', 'dog', 'frog', 'horse', 'ship', 'truck']"
      ]
    },
    {
      "cell_type": "code",
      "execution_count": null,
      "metadata": {
        "id": "l2kaWY07_2yO"
      },
      "outputs": [],
      "source": [
        "max_val = np.max(x_raw)\n",
        "def add_modification(x):\n",
        "        if BACKDOOR_TYPE == 'pattern':\n",
        "            return add_pattern_bd(x, pixel_value=max_val)\n",
        "        elif BACKDOOR_TYPE == 'pixel':\n",
        "            return add_single_bd(x, pixel_value=max_val) \n",
        "        elif BACKDOOR_TYPE == 'image':\n",
        "            return insert_image(x, backdoor_path='../utils/data/backdoors/alert.png', size=(10,10))\n",
        "        else:\n",
        "            raise(\"Unknown backdoor type\")"
      ]
    },
    {
      "cell_type": "code",
      "execution_count": null,
      "metadata": {
        "id": "jmYijnWY_21k"
      },
      "outputs": [],
      "source": [
        "def poison_dataset(x_clean, y_clean, percent_poison, poison_func):\n",
        "    print(x_clean.shape,\"x_clean shape\")\n",
        "    x_poison = np.copy(x_clean)\n",
        "    y_poison = np.copy(y_clean)\n",
        "    is_poison = np.zeros(np.shape(y_poison))\n",
        "    \n",
        "    sources=np.arange(10) # 0, 1, 2, 3, ...\n",
        "    targets=(np.arange(10) + 1) % 10 # 1, 2, 3, 4, ...\n",
        "    for i, (src, tgt) in enumerate(zip(sources, targets)):\n",
        "        n_points_in_tgt = np.size(np.where(y_clean == tgt))\n",
        "        num_poison = round((percent_poison * n_points_in_tgt) / (1 - percent_poison))\n",
        "        src_imgs = x_clean[y_clean == src]\n",
        "        print(src_imgs.shape,\"src images shape\")\n",
        "\n",
        "        n_points_in_src = np.shape(src_imgs)[0]\n",
        "        indices_to_be_poisoned = np.random.choice(n_points_in_src, num_poison)\n",
        "\n",
        "        imgs_to_be_poisoned = np.copy(src_imgs[indices_to_be_poisoned])\n",
        "        backdoor_attack = PoisoningAttackBackdoor(poison_func)\n",
        "        imgs_to_be_poisoned, poison_labels = backdoor_attack.poison(imgs_to_be_poisoned, y=np.ones(num_poison) * tgt)\n",
        "        print(imgs_to_be_poisoned.shape,\"imgs to be poisoned shape\")\n",
        "        x_poison = np.append(x_poison, imgs_to_be_poisoned, axis=0)\n",
        "        y_poison = np.append(y_poison, poison_labels, axis=0)\n",
        "        is_poison = np.append(is_poison, np.ones(num_poison))\n",
        "\n",
        "    is_poison = is_poison != 0\n",
        "    print(x_poison.shape,\"x poison shape\")\n",
        "    return is_poison, x_poison, y_poison"
      ]
    },
    {
      "cell_type": "code",
      "execution_count": null,
      "metadata": {
        "colab": {
          "base_uri": "https://localhost:8080/"
        },
        "id": "VtYkUS1W_250",
        "outputId": "17899436-220c-40e4-d28e-fb38132c09d5"
      },
      "outputs": [
        {
          "output_type": "stream",
          "name": "stdout",
          "text": [
            "(30000, 32, 32, 3) x_clean shape\n",
            "(3126, 32, 32, 3) src images shape\n",
            "(333, 32, 32, 3) imgs to be poisoned shape\n",
            "(2996, 32, 32, 3) src images shape\n",
            "(322, 32, 32, 3) imgs to be poisoned shape\n",
            "(2896, 32, 32, 3) src images shape\n",
            "(326, 32, 32, 3) imgs to be poisoned shape\n",
            "(2932, 32, 32, 3) src images shape\n",
            "(339, 32, 32, 3) imgs to be poisoned shape\n",
            "(3047, 32, 32, 3) src images shape\n",
            "(331, 32, 32, 3) imgs to be poisoned shape\n",
            "(2980, 32, 32, 3) src images shape\n",
            "(343, 32, 32, 3) imgs to be poisoned shape\n",
            "(3091, 32, 32, 3) src images shape\n",
            "(330, 32, 32, 3) imgs to be poisoned shape\n",
            "(2971, 32, 32, 3) src images shape\n",
            "(330, 32, 32, 3) imgs to be poisoned shape\n",
            "(2969, 32, 32, 3) src images shape\n",
            "(332, 32, 32, 3) imgs to be poisoned shape\n",
            "(2992, 32, 32, 3) src images shape\n",
            "(347, 32, 32, 3) imgs to be poisoned shape\n",
            "(33333, 32, 32, 3) x poison shape\n",
            "(10000, 32, 32, 3) x_clean shape\n",
            "(1000, 32, 32, 3) src images shape\n",
            "(111, 32, 32, 3) imgs to be poisoned shape\n",
            "(1000, 32, 32, 3) src images shape\n",
            "(111, 32, 32, 3) imgs to be poisoned shape\n",
            "(1000, 32, 32, 3) src images shape\n",
            "(111, 32, 32, 3) imgs to be poisoned shape\n",
            "(1000, 32, 32, 3) src images shape\n",
            "(111, 32, 32, 3) imgs to be poisoned shape\n",
            "(1000, 32, 32, 3) src images shape\n",
            "(111, 32, 32, 3) imgs to be poisoned shape\n",
            "(1000, 32, 32, 3) src images shape\n",
            "(111, 32, 32, 3) imgs to be poisoned shape\n",
            "(1000, 32, 32, 3) src images shape\n",
            "(111, 32, 32, 3) imgs to be poisoned shape\n",
            "(1000, 32, 32, 3) src images shape\n",
            "(111, 32, 32, 3) imgs to be poisoned shape\n",
            "(1000, 32, 32, 3) src images shape\n",
            "(111, 32, 32, 3) imgs to be poisoned shape\n",
            "(1000, 32, 32, 3) src images shape\n",
            "(111, 32, 32, 3) imgs to be poisoned shape\n",
            "(11110, 32, 32, 3) x poison shape\n"
          ]
        }
      ],
      "source": [
        "# Poison training data\n",
        "percent_poison = .1\n",
        "(is_poison_train, x_poisoned_raw, y_poisoned_raw) = poison_dataset(x_raw, y_raw, percent_poison, add_modification)\n",
        "x_train, y_train = preprocess(x_poisoned_raw, y_poisoned_raw)\n",
        "# Add channel axis:\n",
        "#x_train = np.expand_dims(x_train, axis=3)\n",
        "\n",
        "# Poison test data\n",
        "(is_poison_test, x_poisoned_raw_test, y_poisoned_raw_test) = poison_dataset(x_raw_test, y_raw_test, percent_poison, add_modification)\n",
        "x_test, y_test = preprocess(x_poisoned_raw_test, y_poisoned_raw_test)\n",
        "# Add channel axis:\n",
        "#x_test = np.expand_dims(x_test, axis=3)\n",
        "\n",
        "# Shuffle training data\n",
        "n_train = np.shape(y_train)[0]\n",
        "shuffled_indices = np.arange(n_train)\n",
        "np.random.shuffle(shuffled_indices)\n",
        "x_train = x_train[shuffled_indices]\n",
        "y_train = y_train[shuffled_indices]"
      ]
    },
    {
      "cell_type": "code",
      "execution_count": null,
      "metadata": {
        "colab": {
          "base_uri": "https://localhost:8080/"
        },
        "id": "LeeN4p3dAA08",
        "outputId": "63899b7e-be7b-49cf-c01b-8843ca476516"
      },
      "outputs": [
        {
          "output_type": "stream",
          "name": "stdout",
          "text": [
            "(11110, 32, 32, 3)\n"
          ]
        }
      ],
      "source": [
        "print(x_test.shape)"
      ]
    },
    {
      "cell_type": "code",
      "execution_count": null,
      "metadata": {
        "colab": {
          "base_uri": "https://localhost:8080/"
        },
        "id": "MwyQ04OSADOA",
        "outputId": "4278347c-2da2-42e2-9b8f-06553731f798"
      },
      "outputs": [
        {
          "output_type": "stream",
          "name": "stdout",
          "text": [
            "(11110, 10)\n"
          ]
        }
      ],
      "source": [
        "print(y_test.shape)"
      ]
    },
    {
      "cell_type": "code",
      "execution_count": null,
      "metadata": {
        "colab": {
          "base_uri": "https://localhost:8080/",
          "height": 266
        },
        "id": "kvNu8gY_APnf",
        "outputId": "11b63fcb-6d6d-484a-b1cf-ce358d5adf0a"
      },
      "outputs": [
        {
          "output_type": "display_data",
          "data": {
            "text/plain": [
              "<Figure size 432x288 with 1 Axes>"
            ],
            "image/png": "[encoded data removed]"
          },
          "metadata": {
            "needs_background": "light"
          }
        }
      ],
      "source": [
        "poison_x_test = x_test[is_poison_test]\n",
        "poison_y_test = y_test[is_poison_test]\n",
        "\n",
        "c = 1 # class to display\n",
        "i = 0 # image of the class to display\n",
        "\n",
        "c_idx = np.where(np.argmax(poison_y_test,1) == c)[0][i] # index of the image in poison arrays\n",
        "c_idx=25\n",
        "plt.imshow(poison_x_test[c_idx].squeeze())\n",
        "plt.show()"
      ]
    },
    {
      "cell_type": "code",
      "execution_count": null,
      "metadata": {
        "colab": {
          "base_uri": "https://localhost:8080/"
        },
        "id": "yaBZKs9nAUe8",
        "outputId": "f0879394-3ccd-4608-b706-be9da9398c8f"
      },
      "outputs": [
        {
          "output_type": "stream",
          "name": "stdout",
          "text": [
            "1110\n"
          ]
        }
      ],
      "source": [
        "print(len(poison_x_test))"
      ]
    },
    {
      "cell_type": "code",
      "execution_count": null,
      "metadata": {
        "id": "XicOCX8BB7jC"
      },
      "outputs": [],
      "source": [
        "from __future__ import absolute_import, division, print_function, unicode_literals\n",
        "\n",
        "import logging\n",
        "\n",
        "from keras.models import Sequential\n",
        "from keras.layers import Dense, Flatten, Conv2D, MaxPooling2D, Activation, Dropout\n",
        "from keras.layers import Dense, Activation, Flatten, Dropout, BatchNormalization\n",
        "from keras.models import Sequential\n",
        "from keras.utils import np_utils\n",
        "from keras.preprocessing.image import ImageDataGenerator\n",
        "from keras.layers import Dense, Activation, Flatten, Dropout, BatchNormalization\n",
        "from keras.layers import Conv2D, MaxPooling2D\n",
        "from keras.datasets import cifar10\n",
        "from keras import regularizers, optimizers\n",
        "import numpy as np\n",
        "\n",
        "from art.attacks.evasion import DeepFool\n",
        "from art.estimators.classification import KerasClassifier\n",
        "from art.utils import load_dataset"
      ]
    },
    {
      "cell_type": "code",
      "execution_count": null,
      "metadata": {
        "colab": {
          "base_uri": "https://localhost:8080/"
        },
        "id": "uWw0EYwRCBVJ",
        "outputId": "a9dc1d7c-01d0-4058-ec98-d20160903a1b"
      },
      "outputs": [
        {
          "output_type": "stream",
          "name": "stdout",
          "text": [
            "33333\n"
          ]
        }
      ],
      "source": [
        "print(len(x_train))"
      ]
    },
    {
      "cell_type": "code",
      "execution_count": null,
      "metadata": {
        "id": "tVqZM2DRCDLE"
      },
      "outputs": [],
      "source": [
        "model = Sequential()\n",
        "model.add(Conv2D(32, (3, 3), padding=\"same\", input_shape=x_train.shape[1:]))\n",
        "model.add(Activation(\"relu\"))\n",
        "model.add(Conv2D(32, (3, 3)))\n",
        "model.add(Activation(\"relu\"))\n",
        "model.add(MaxPooling2D(pool_size=(2, 2)))\n",
        "model.add(Dropout(0.25))\n",
        "\n",
        "model.add(Conv2D(64, (3, 3), padding=\"same\"))\n",
        "model.add(Activation(\"relu\"))\n",
        "model.add(Conv2D(64, (3, 3)))\n",
        "model.add(Activation(\"relu\"))\n",
        "model.add(MaxPooling2D(pool_size=(2, 2)))\n",
        "model.add(Dropout(0.25))\n",
        "\n",
        "model.add(Flatten())\n",
        "model.add(Dense(512))\n",
        "model.add(Activation(\"relu\"))\n",
        "model.add(Dropout(0.5))\n",
        "model.add(Dense(10))\n",
        "model.add(Activation(\"softmax\"))\n",
        "\n",
        "model.compile(loss=\"categorical_crossentropy\", optimizer=\"adam\", metrics=[\"accuracy\"])"
      ]
    },
    {
      "cell_type": "code",
      "execution_count": null,
      "metadata": {
        "id": "5saslDVBUGbv"
      },
      "outputs": [],
      "source": [
        "\n",
        "warnings.filterwarnings('ignore')\n",
        "\n",
        "from art import config\n",
        "from art.utils import load_dataset, get_file\n",
        "from art.estimators.classification import KerasClassifier\n",
        "from art.attacks.evasion import FastGradientMethod\n",
        "from art.attacks.evasion import BasicIterativeMethod\n",
        "from art.defences.trainer import AdversarialTrainer\n",
        "\n",
        "import numpy as np\n",
        "\n",
        "%matplotlib inline\n",
        "import matplotlib.pyplot as plt"
      ]
    },
    {
      "cell_type": "code",
      "execution_count": null,
      "metadata": {
        "id": "ZTiu1iHFUGmR"
      },
      "outputs": [],
      "source": [
        "from art.attacks.evasion.projected_gradient_descent.projected_gradient_descent import ProjectedGradientDescent\n",
        "robust_classifier = KerasClassifier(model)"
      ]
    },
    {
      "cell_type": "code",
      "execution_count": null,
      "metadata": {
        "id": "fMqmWHXGUGuA"
      },
      "outputs": [],
      "source": [
        "attacks = ProjectedGradientDescent(robust_classifier, eps=0.3, eps_step=0.01, max_iter=5)"
      ]
    },
    {
      "cell_type": "code",
      "execution_count": null,
      "metadata": {
        "colab": {
          "base_uri": "https://localhost:8080/",
          "height": 81,
          "referenced_widgets": [
            "2f3cff50eda44451be4e7c58c94b16b4",
            "684d56c57b8b41b9813149a2ef56303d",
            "e5ed21431e0f4f5b927942b70ffdd575",
            "250c88f566804d1db7f6cdb50472464f",
            "1e4dbdb901df4f6cb33728546da2bff0",
            "0c26c0513b9e47bc89b87c35e64aaff0",
            "d7f6b024acd84cd0ba79195cf6f338f4",
            "58d442de5c2841f592dc722e4a37bdde",
            "8f5862b85a83446e85db0410f9b21cad",
            "b3112211a81c431bbfda60857e0ab771",
            "e80c89ca815b4d139d946c3f03bfc3ad",
            "227b10216a0f4b5fa3c9334d68a0e21f",
            "a2ee4e5ae9af442cb5ee00a82a5d0320",
            "37ce699292a44b308d311f0d916f409e",
            "9f925f9e011d4b869c171fa867c3b862",
            "edaa3d9606e64b758e82c4199e2ad851",
            "bc6f9cac48114451803be8fb67fface7",
            "fa8ee446bff742fca2d407a0e5fc6398",
            "f4ac85aa3fd24ff3b98b40392a8b1b56",
            "69ce47705e9f4b09b65060f9178719cf",
            "2958d285d8f741c79377c7464a4bab10",
            "f0c026ec99e3464fb6ce98c5e54800c6"
          ]
        },
        "id": "kHzVwPwzUG5m",
        "outputId": "ce48cf76-1a8b-4a74-b4d3-93aeaf8696fe"
      },
      "outputs": [
        {
          "output_type": "display_data",
          "data": {
            "text/plain": [
              "Precompute adv samples:   0%|          | 0/1 [00:00<?, ?it/s]"
            ],
            "application/vnd.jupyter.widget-view+json": {
              "version_major": 2,
              "version_minor": 0,
              "model_id": "2f3cff50eda44451be4e7c58c94b16b4"
            }
          },
          "metadata": {}
        },
        {
          "output_type": "display_data",
          "data": {
            "text/plain": [
              "Adversarial training epochs:   0%|          | 0/40 [00:00<?, ?it/s]"
            ],
            "application/vnd.jupyter.widget-view+json": {
              "version_major": 2,
              "version_minor": 0,
              "model_id": "227b10216a0f4b5fa3c9334d68a0e21f"
            }
          },
          "metadata": {}
        }
      ],
      "source": [
        "trainer = AdversarialTrainer(robust_classifier, attacks, ratio=1.0)\n",
        "trainer.fit(x_train, y_train, nb_epochs=40, batch_size=1024)"
      ]
    },
    {
      "cell_type": "code",
      "source": [
        "robust_classifier.save('/content/badnet_cifar_at.h5')"
      ],
      "metadata": {
        "id": "MltAJaDys6Nl"
      },
      "execution_count": null,
      "outputs": []
    },
    {
      "cell_type": "code",
      "execution_count": null,
      "metadata": {
        "id": "OHOmvREmUqYM",
        "colab": {
          "base_uri": "https://localhost:8080/"
        },
        "outputId": "5caf033b-68bd-4763-c9c4-2d4b1ccdb8e9"
      },
      "outputs": [
        {
          "output_type": "stream",
          "name": "stdout",
          "text": [
            "594\n",
            "1110\n",
            "53.513513513513516  % accuracy\n"
          ]
        }
      ],
      "source": [
        "poison_x_test = x_test[is_poison_test]\n",
        "poison_y_test = y_test[is_poison_test]\n",
        "\n",
        "poison_preds = np.argmax(robust_classifier.predict(poison_x_test), axis=1)\n",
        "ct=0\n",
        "for i in range(len(poison_preds)):\n",
        "  jhc=(poison_preds[i]+1)%10\n",
        "  if poison_y_test[i][jhc]==1:\n",
        "    ct+=1\n",
        "print(ct)\n",
        "print(len(poison_preds))\n",
        "print(100*ct/len(poison_preds),\" % accuracy\")"
      ]
    },
    {
      "cell_type": "code",
      "execution_count": null,
      "metadata": {
        "id": "risKoqSXUqeX",
        "colab": {
          "base_uri": "https://localhost:8080/",
          "height": 318
        },
        "outputId": "abdbdf7d-c070-4018-c2c0-66512c63be96"
      },
      "outputs": [
        {
          "output_type": "display_data",
          "data": {
            "text/plain": [
              "<Figure size 432x288 with 1 Axes>"
            ],
            "image/png": "[encoded data removed]"
          },
          "metadata": {
            "needs_background": "light"
          }
        },
        {
          "output_type": "stream",
          "name": "stdout",
          "text": [
            "Prediction: 0\n",
            "\n",
            " Effectiveness of poison: 5.50%\n"
          ]
        }
      ],
      "source": [
        "poison_x_test = x_test[is_poison_test]\n",
        "poison_y_test = y_test[is_poison_test]\n",
        "\n",
        "poison_preds = np.argmax(robust_classifier.predict(poison_x_test), axis=1)\n",
        "poison_correct = np.sum(poison_preds == np.argmax(poison_y_test, axis=1))\n",
        "poison_total = poison_y_test.shape[0]\n",
        "\n",
        "c = 1 # class to display\n",
        "i = 0 # image of the class to display\n",
        "\n",
        "c_idx = 43\n",
        "\n",
        "plt.imshow(poison_x_test[c_idx].squeeze())\n",
        "plt.show()\n",
        "poison_label = c\n",
        "print(\"Prediction: \" + str(poison_preds[c_idx]))\n",
        "\n",
        "poison_acc = poison_correct / poison_total\n",
        "print(\"\\n Effectiveness of poison: %.2f%%\" % (poison_acc * 100))"
      ]
    },
    {
      "cell_type": "code",
      "execution_count": null,
      "metadata": {
        "id": "8V6DUSWMViUA",
        "colab": {
          "base_uri": "https://localhost:8080/",
          "height": 353
        },
        "outputId": "c90bd5c9-ff9d-4536-df4a-8ebf6d22f9cb"
      },
      "outputs": [
        {
          "output_type": "stream",
          "name": "stdout",
          "text": [
            "10000\n",
            "\n",
            "Clean test set accuracy: 51.99%\n"
          ]
        },
        {
          "output_type": "display_data",
          "data": {
            "text/plain": [
              "<Figure size 432x288 with 1 Axes>"
            ],
            "image/png": "[encoded data removed]"
          },
          "metadata": {
            "needs_background": "light"
          }
        },
        {
          "output_type": "stream",
          "name": "stdout",
          "text": [
            "Prediction: 6\n",
            "Clean Label: 6\n"
          ]
        }
      ],
      "source": [
        "clean_x_test = x_test[is_poison_test == 0]\n",
        "clean_y_test = y_test[is_poison_test == 0]\n",
        "clean_temp=[]\n",
        "for i in range(len(clean_y_test)):\n",
        "  for j in range(10):\n",
        "    if clean_y_test[i][j]==1:\n",
        "      clean_temp.append(j)\n",
        "print(len(clean_x_test))\n",
        "clean_preds = np.argmax(robust_classifier.predict(clean_x_test), axis=1)\n",
        "clean_correct = np.sum(clean_preds == np.argmax(clean_y_test, axis=1))\n",
        "clean_total = clean_y_test.shape[0]\n",
        "\n",
        "clean_acc = clean_correct / clean_total\n",
        "print(\"\\nClean test set accuracy: %.2f%%\" % (clean_acc * 100))\n",
        "\n",
        "# Display image, label, and prediction for a clean sample to show how the poisoned model classifies a clean sample\n",
        "\n",
        "c = 0 # class to display\n",
        "i = 0 # image of the class to display\n",
        "\n",
        "c_idx = 4\n",
        "\n",
        "plt.imshow(clean_x_test[c_idx].squeeze())\n",
        "plt.show()\n",
        "clean_label = c\n",
        "print(\"Prediction: \" + str(clean_preds[c_idx]))\n",
        "print(\"Clean Label: \" + str(clean_temp[c_idx]))"
      ]
    },
    {
      "cell_type": "code",
      "execution_count": null,
      "metadata": {
        "id": "SbSzH61OVnzu",
        "colab": {
          "base_uri": "https://localhost:8080/"
        },
        "outputId": "4ba985ab-2fad-43fd-cde0-bc02696769f2"
      },
      "outputs": [
        {
          "output_type": "stream",
          "name": "stdout",
          "text": [
            "594\n",
            "1110\n",
            "53.513513513513516  % accuracy\n"
          ]
        }
      ],
      "source": [
        "poison_x_test = x_test[is_poison_test]\n",
        "poison_y_test = y_test[is_poison_test]\n",
        "poison_temp=[]\n",
        "for i in range(len(poison_y_test)):\n",
        "  for j in range(10):\n",
        "    if poison_y_test[i][j]==1:\n",
        "      poison_temp.append((j-1+10)%10)\n",
        "poison_preds = np.argmax(robust_classifier.predict(poison_x_test), axis=1)\n",
        "ct=0\n",
        "for i in range(len(poison_preds)):\n",
        "  jhc=(poison_preds[i]+1)%10\n",
        "  if poison_y_test[i][jhc]==1:\n",
        "    ct+=1\n",
        "print(ct)\n",
        "print(len(poison_preds))\n",
        "print(100*ct/len(poison_preds),\" % accuracy\")"
      ]
    },
    {
      "cell_type": "code",
      "source": [
        "for i in range(len(poison_preds)):\n",
        "  jhc=(poison_preds[i]+1)%10\n",
        "  if poison_y_test[i][jhc]==1:\n",
        "    print(i)"
      ],
      "metadata": {
        "colab": {
          "base_uri": "https://localhost:8080/"
        },
        "id": "-ltQGXz38V7u",
        "outputId": "506d15b5-01a3-4766-ba6e-b3aebceb3ee6"
      },
      "execution_count": null,
      "outputs": [
        {
          "output_type": "stream",
          "name": "stdout",
          "text": [
            "0\n",
            "1\n",
            "2\n",
            "5\n",
            "8\n",
            "11\n",
            "13\n",
            "15\n",
            "16\n",
            "18\n",
            "19\n",
            "21\n",
            "22\n",
            "24\n",
            "25\n",
            "27\n",
            "28\n",
            "30\n",
            "31\n",
            "32\n",
            "33\n",
            "34\n",
            "35\n",
            "36\n",
            "40\n",
            "43\n",
            "44\n",
            "45\n",
            "46\n",
            "47\n",
            "50\n",
            "51\n",
            "53\n",
            "54\n",
            "55\n",
            "56\n",
            "60\n",
            "62\n",
            "64\n",
            "66\n",
            "67\n",
            "69\n",
            "70\n",
            "76\n",
            "77\n",
            "78\n",
            "79\n",
            "80\n",
            "81\n",
            "82\n",
            "84\n",
            "86\n",
            "88\n",
            "89\n",
            "90\n",
            "91\n",
            "95\n",
            "96\n",
            "97\n",
            "99\n",
            "100\n",
            "103\n",
            "109\n",
            "110\n",
            "111\n",
            "112\n",
            "113\n",
            "115\n",
            "116\n",
            "117\n",
            "119\n",
            "120\n",
            "122\n",
            "124\n",
            "125\n",
            "127\n",
            "129\n",
            "130\n",
            "131\n",
            "132\n",
            "133\n",
            "135\n",
            "136\n",
            "137\n",
            "138\n",
            "140\n",
            "141\n",
            "142\n",
            "143\n",
            "144\n",
            "145\n",
            "147\n",
            "148\n",
            "150\n",
            "151\n",
            "152\n",
            "154\n",
            "155\n",
            "156\n",
            "157\n",
            "158\n",
            "159\n",
            "161\n",
            "162\n",
            "163\n",
            "164\n",
            "165\n",
            "166\n",
            "167\n",
            "170\n",
            "171\n",
            "173\n",
            "174\n",
            "175\n",
            "176\n",
            "178\n",
            "179\n",
            "180\n",
            "182\n",
            "183\n",
            "184\n",
            "186\n",
            "187\n",
            "188\n",
            "189\n",
            "190\n",
            "192\n",
            "194\n",
            "195\n",
            "196\n",
            "197\n",
            "199\n",
            "201\n",
            "202\n",
            "203\n",
            "204\n",
            "205\n",
            "206\n",
            "207\n",
            "208\n",
            "210\n",
            "213\n",
            "214\n",
            "215\n",
            "216\n",
            "217\n",
            "219\n",
            "231\n",
            "233\n",
            "235\n",
            "236\n",
            "237\n",
            "249\n",
            "251\n",
            "253\n",
            "262\n",
            "273\n",
            "274\n",
            "276\n",
            "277\n",
            "280\n",
            "281\n",
            "286\n",
            "310\n",
            "314\n",
            "330\n",
            "332\n",
            "338\n",
            "339\n",
            "346\n",
            "349\n",
            "354\n",
            "356\n",
            "359\n",
            "362\n",
            "370\n",
            "371\n",
            "372\n",
            "376\n",
            "377\n",
            "380\n",
            "383\n",
            "384\n",
            "385\n",
            "393\n",
            "395\n",
            "400\n",
            "410\n",
            "415\n",
            "421\n",
            "422\n",
            "429\n",
            "444\n",
            "445\n",
            "447\n",
            "448\n",
            "454\n",
            "456\n",
            "459\n",
            "464\n",
            "465\n",
            "467\n",
            "468\n",
            "470\n",
            "472\n",
            "478\n",
            "482\n",
            "484\n",
            "485\n",
            "488\n",
            "490\n",
            "491\n",
            "494\n",
            "496\n",
            "497\n",
            "498\n",
            "503\n",
            "505\n",
            "508\n",
            "509\n",
            "511\n",
            "512\n",
            "517\n",
            "520\n",
            "521\n",
            "525\n",
            "529\n",
            "530\n",
            "532\n",
            "534\n",
            "536\n",
            "537\n",
            "543\n",
            "545\n",
            "548\n",
            "550\n",
            "551\n",
            "552\n",
            "553\n",
            "556\n",
            "557\n",
            "558\n",
            "559\n",
            "560\n",
            "561\n",
            "564\n",
            "569\n",
            "574\n",
            "576\n",
            "578\n",
            "579\n",
            "582\n",
            "585\n",
            "587\n",
            "590\n",
            "592\n",
            "597\n",
            "600\n",
            "602\n",
            "603\n",
            "606\n",
            "607\n",
            "610\n",
            "612\n",
            "614\n",
            "616\n",
            "618\n",
            "620\n",
            "621\n",
            "622\n",
            "625\n",
            "626\n",
            "629\n",
            "631\n",
            "633\n",
            "634\n",
            "637\n",
            "640\n",
            "643\n",
            "645\n",
            "646\n",
            "653\n",
            "654\n",
            "655\n",
            "656\n",
            "657\n",
            "661\n",
            "663\n",
            "666\n",
            "667\n",
            "669\n",
            "671\n",
            "672\n",
            "673\n",
            "674\n",
            "675\n",
            "677\n",
            "678\n",
            "679\n",
            "681\n",
            "682\n",
            "683\n",
            "684\n",
            "686\n",
            "688\n",
            "690\n",
            "691\n",
            "692\n",
            "693\n",
            "694\n",
            "695\n",
            "697\n",
            "698\n",
            "699\n",
            "701\n",
            "702\n",
            "703\n",
            "704\n",
            "705\n",
            "706\n",
            "707\n",
            "708\n",
            "709\n",
            "710\n",
            "711\n",
            "712\n",
            "713\n",
            "714\n",
            "715\n",
            "716\n",
            "717\n",
            "718\n",
            "720\n",
            "721\n",
            "722\n",
            "723\n",
            "724\n",
            "725\n",
            "726\n",
            "727\n",
            "728\n",
            "730\n",
            "731\n",
            "732\n",
            "733\n",
            "734\n",
            "735\n",
            "736\n",
            "737\n",
            "738\n",
            "739\n",
            "740\n",
            "741\n",
            "742\n",
            "744\n",
            "745\n",
            "746\n",
            "747\n",
            "748\n",
            "749\n",
            "750\n",
            "751\n",
            "752\n",
            "753\n",
            "754\n",
            "756\n",
            "757\n",
            "758\n",
            "759\n",
            "760\n",
            "761\n",
            "762\n",
            "764\n",
            "765\n",
            "766\n",
            "767\n",
            "768\n",
            "770\n",
            "771\n",
            "772\n",
            "773\n",
            "774\n",
            "775\n",
            "776\n",
            "777\n",
            "781\n",
            "782\n",
            "783\n",
            "787\n",
            "788\n",
            "789\n",
            "794\n",
            "796\n",
            "797\n",
            "798\n",
            "799\n",
            "800\n",
            "803\n",
            "804\n",
            "805\n",
            "808\n",
            "809\n",
            "811\n",
            "812\n",
            "813\n",
            "817\n",
            "821\n",
            "823\n",
            "826\n",
            "827\n",
            "828\n",
            "830\n",
            "832\n",
            "834\n",
            "835\n",
            "836\n",
            "837\n",
            "838\n",
            "839\n",
            "841\n",
            "843\n",
            "844\n",
            "845\n",
            "846\n",
            "847\n",
            "848\n",
            "849\n",
            "850\n",
            "856\n",
            "858\n",
            "860\n",
            "862\n",
            "863\n",
            "865\n",
            "866\n",
            "870\n",
            "871\n",
            "873\n",
            "875\n",
            "876\n",
            "877\n",
            "878\n",
            "879\n",
            "880\n",
            "881\n",
            "882\n",
            "883\n",
            "884\n",
            "885\n",
            "886\n",
            "888\n",
            "889\n",
            "890\n",
            "891\n",
            "892\n",
            "894\n",
            "895\n",
            "896\n",
            "897\n",
            "898\n",
            "900\n",
            "901\n",
            "902\n",
            "903\n",
            "904\n",
            "905\n",
            "906\n",
            "907\n",
            "910\n",
            "911\n",
            "912\n",
            "913\n",
            "915\n",
            "916\n",
            "918\n",
            "919\n",
            "922\n",
            "924\n",
            "926\n",
            "927\n",
            "930\n",
            "931\n",
            "932\n",
            "933\n",
            "934\n",
            "935\n",
            "936\n",
            "937\n",
            "938\n",
            "939\n",
            "941\n",
            "942\n",
            "943\n",
            "944\n",
            "946\n",
            "947\n",
            "948\n",
            "949\n",
            "950\n",
            "952\n",
            "953\n",
            "954\n",
            "956\n",
            "957\n",
            "958\n",
            "959\n",
            "961\n",
            "962\n",
            "964\n",
            "965\n",
            "966\n",
            "967\n",
            "971\n",
            "972\n",
            "973\n",
            "974\n",
            "976\n",
            "977\n",
            "979\n",
            "980\n",
            "981\n",
            "982\n",
            "983\n",
            "984\n",
            "985\n",
            "986\n",
            "989\n",
            "990\n",
            "991\n",
            "992\n",
            "993\n",
            "994\n",
            "995\n",
            "999\n",
            "1000\n",
            "1001\n",
            "1002\n",
            "1003\n",
            "1004\n",
            "1006\n",
            "1007\n",
            "1008\n",
            "1009\n",
            "1011\n",
            "1012\n",
            "1015\n",
            "1016\n",
            "1017\n",
            "1021\n",
            "1027\n",
            "1030\n",
            "1033\n",
            "1035\n",
            "1036\n",
            "1037\n",
            "1038\n",
            "1039\n",
            "1040\n",
            "1042\n",
            "1044\n",
            "1045\n",
            "1046\n",
            "1048\n",
            "1049\n",
            "1051\n",
            "1053\n",
            "1054\n",
            "1056\n",
            "1060\n",
            "1062\n",
            "1065\n",
            "1069\n",
            "1070\n",
            "1071\n",
            "1073\n",
            "1077\n",
            "1079\n",
            "1080\n",
            "1081\n",
            "1083\n",
            "1084\n",
            "1086\n",
            "1088\n",
            "1089\n",
            "1090\n",
            "1093\n",
            "1094\n",
            "1095\n",
            "1097\n",
            "1100\n",
            "1102\n",
            "1105\n",
            "1107\n",
            "1108\n"
          ]
        }
      ]
    },
    {
      "cell_type": "code",
      "source": [
        "c_idx = 0\n",
        "\n",
        "plt.imshow(poison_x_test[c_idx].squeeze())\n",
        "plt.show()\n",
        "clean_label = c\n",
        "print(\"Prediction: \" + str(class_descr[poison_preds[c_idx]]))\n",
        "print(\"Clean Label: \" + str(class_descr[poison_temp[c_idx]]))"
      ],
      "metadata": {
        "colab": {
          "base_uri": "https://localhost:8080/",
          "height": 301
        },
        "id": "HwLRpAxQ7dgK",
        "outputId": "f24205bd-331b-4ee4-adff-dd6c606afcf1"
      },
      "execution_count": null,
      "outputs": [
        {
          "output_type": "display_data",
          "data": {
            "text/plain": [
              "<Figure size 432x288 with 1 Axes>"
            ],
            "image/png": "[encoded data removed]"
          },
          "metadata": {
            "needs_background": "light"
          }
        },
        {
          "output_type": "stream",
          "name": "stdout",
          "text": [
            "Prediction: airplane\n",
            "Clean Label: airplane\n"
          ]
        }
      ]
    },
    {
      "cell_type": "code",
      "source": [
        "c_idx = 559\n",
        "\n",
        "plt.imshow(poison_x_test[c_idx].squeeze())\n",
        "plt.show()\n",
        "clean_label = c\n",
        "print(\"Prediction: \" + str(class_descr[poison_preds[c_idx]]))\n",
        "print(\"Clean Label: \" + str(class_descr[poison_temp[c_idx]]))"
      ],
      "metadata": {
        "colab": {
          "base_uri": "https://localhost:8080/",
          "height": 301
        },
        "id": "8IK5Vwf-8HsG",
        "outputId": "44cef388-d625-4e42-e262-5165f7f40b69"
      },
      "execution_count": null,
      "outputs": [
        {
          "output_type": "display_data",
          "data": {
            "text/plain": [
              "<Figure size 432x288 with 1 Axes>"
            ],
            "image/png": "[encoded data removed]"
          },
          "metadata": {
            "needs_background": "light"
          }
        },
        {
          "output_type": "stream",
          "name": "stdout",
          "text": [
            "Prediction: dog\n",
            "Clean Label: dog\n"
          ]
        }
      ]
    },
    {
      "cell_type": "code",
      "source": [
        "c_idx = 850\n",
        "\n",
        "plt.imshow(poison_x_test[c_idx].squeeze())\n",
        "plt.show()\n",
        "clean_label = c\n",
        "print(\"Prediction: \" + str(class_descr[poison_preds[c_idx]]))\n",
        "print(\"Clean Label: \" + str(class_descr[poison_temp[c_idx]]))"
      ],
      "metadata": {
        "colab": {
          "base_uri": "https://localhost:8080/",
          "height": 301
        },
        "id": "psksLJt48Kb7",
        "outputId": "344300f2-bc01-4e3c-f2dd-4f39ce024e9c"
      },
      "execution_count": null,
      "outputs": [
        {
          "output_type": "display_data",
          "data": {
            "text/plain": [
              "<Figure size 432x288 with 1 Axes>"
            ],
            "image/png": "[encoded data removed]"
          },
          "metadata": {
            "needs_background": "light"
          }
        },
        {
          "output_type": "stream",
          "name": "stdout",
          "text": [
            "Prediction: horse\n",
            "Clean Label: horse\n"
          ]
        }
      ]
    },
    {
      "cell_type": "code",
      "source": [
        "c_idx = 982\n",
        "\n",
        "plt.imshow(poison_x_test[c_idx].squeeze())\n",
        "plt.show()\n",
        "clean_label = c\n",
        "print(\"Prediction: \" + str(class_descr[poison_preds[c_idx]]))\n",
        "print(\"Clean Label: \" + str(class_descr[poison_temp[c_idx]]))"
      ],
      "metadata": {
        "colab": {
          "base_uri": "https://localhost:8080/",
          "height": 301
        },
        "id": "fHkMi6nI8yzK",
        "outputId": "9ca5ab89-d1be-400f-bd24-5f6558162e52"
      },
      "execution_count": null,
      "outputs": [
        {
          "output_type": "display_data",
          "data": {
            "text/plain": [
              "<Figure size 432x288 with 1 Axes>"
            ],
            "image/png": "[encoded data removed]"
          },
          "metadata": {
            "needs_background": "light"
          }
        },
        {
          "output_type": "stream",
          "name": "stdout",
          "text": [
            "Prediction: ship\n",
            "Clean Label: ship\n"
          ]
        }
      ]
    },
    {
      "cell_type": "code",
      "source": [
        "temp_model=KerasClassifier(model)"
      ],
      "metadata": {
        "id": "aUb8Z2xC9Imo"
      },
      "execution_count": null,
      "outputs": []
    },
    {
      "cell_type": "code",
      "source": [
        "temp_model.fit(x_train,y_train)"
      ],
      "metadata": {
        "colab": {
          "base_uri": "https://localhost:8080/"
        },
        "id": "CQ1twWWK9SUi",
        "outputId": "74a2d7b6-7d74-424c-dd41-4233286895c1"
      },
      "execution_count": null,
      "outputs": [
        {
          "output_type": "stream",
          "name": "stdout",
          "text": [
            "Train on 33333 samples\n",
            "Epoch 1/20\n",
            "33333/33333 [==============================] - 4s 114us/sample - loss: 1.4378 - accuracy: 0.4990\n",
            "Epoch 2/20\n",
            "33333/33333 [==============================] - 3s 103us/sample - loss: 1.2674 - accuracy: 0.5646\n",
            "Epoch 3/20\n",
            "33333/33333 [==============================] - 3s 103us/sample - loss: 1.1751 - accuracy: 0.6022\n",
            "Epoch 4/20\n",
            "33333/33333 [==============================] - 3s 103us/sample - loss: 1.1012 - accuracy: 0.6266\n",
            "Epoch 5/20\n",
            "33333/33333 [==============================] - 3s 103us/sample - loss: 1.0343 - accuracy: 0.6431\n",
            "Epoch 6/20\n",
            "33333/33333 [==============================] - 3s 104us/sample - loss: 0.9385 - accuracy: 0.6685\n",
            "Epoch 7/20\n",
            "33333/33333 [==============================] - 3s 103us/sample - loss: 0.8489 - accuracy: 0.6999\n",
            "Epoch 8/20\n",
            "33333/33333 [==============================] - 3s 103us/sample - loss: 0.7967 - accuracy: 0.7203\n",
            "Epoch 9/20\n",
            "33333/33333 [==============================] - 3s 103us/sample - loss: 0.7504 - accuracy: 0.7356\n",
            "Epoch 10/20\n",
            "33333/33333 [==============================] - 3s 103us/sample - loss: 0.7005 - accuracy: 0.7543\n",
            "Epoch 11/20\n",
            "33333/33333 [==============================] - 3s 103us/sample - loss: 0.6615 - accuracy: 0.7700\n",
            "Epoch 12/20\n",
            "33333/33333 [==============================] - 3s 102us/sample - loss: 0.6308 - accuracy: 0.7791\n",
            "Epoch 13/20\n",
            "33333/33333 [==============================] - 3s 103us/sample - loss: 0.6029 - accuracy: 0.7883\n",
            "Epoch 14/20\n",
            "33333/33333 [==============================] - 3s 102us/sample - loss: 0.5692 - accuracy: 0.8024\n",
            "Epoch 15/20\n",
            "33333/33333 [==============================] - 3s 102us/sample - loss: 0.5510 - accuracy: 0.8079\n",
            "Epoch 16/20\n",
            "33333/33333 [==============================] - 3s 104us/sample - loss: 0.5303 - accuracy: 0.8144\n",
            "Epoch 17/20\n",
            "33333/33333 [==============================] - 3s 102us/sample - loss: 0.5078 - accuracy: 0.8231\n",
            "Epoch 18/20\n",
            "33333/33333 [==============================] - 3s 102us/sample - loss: 0.4897 - accuracy: 0.8283\n",
            "Epoch 19/20\n",
            "33333/33333 [==============================] - 3s 102us/sample - loss: 0.4777 - accuracy: 0.8339\n",
            "Epoch 20/20\n",
            "33333/33333 [==============================] - 3s 102us/sample - loss: 0.4677 - accuracy: 0.8375\n"
          ]
        }
      ]
    },
    {
      "cell_type": "code",
      "source": [
        "poison_preds = np.argmax(temp_model.predict(poison_x_test), axis=1)\n",
        "ct=0\n",
        "for i in range(len(poison_preds)):\n",
        "  jhc=(poison_preds[i]+1)%10\n",
        "  if poison_y_test[i][jhc]==1:\n",
        "    ct+=1\n",
        "print(ct)\n",
        "print(len(poison_preds))\n",
        "print(100*ct/len(poison_preds),\" % accuracy\")"
      ],
      "metadata": {
        "colab": {
          "base_uri": "https://localhost:8080/"
        },
        "id": "JWN1ZIDW9io1",
        "outputId": "de6ae454-9785-46e9-825a-35f05f68296d"
      },
      "execution_count": null,
      "outputs": [
        {
          "output_type": "stream",
          "name": "stdout",
          "text": [
            "122\n",
            "1110\n",
            "10.99099099099099  % accuracy\n"
          ]
        }
      ]
    },
    {
      "cell_type": "code",
      "source": [
        "c_idx = 0\n",
        "\n",
        "plt.imshow(poison_x_test[c_idx].squeeze())\n",
        "plt.show()\n",
        "clean_label = c\n",
        "print(\"Prediction: \" + str(class_descr[poison_preds[c_idx]]))\n",
        "print(\"Clean Label: \" + str(class_descr[poison_temp[c_idx]]))"
      ],
      "metadata": {
        "colab": {
          "base_uri": "https://localhost:8080/",
          "height": 301
        },
        "id": "gw1k-AI--Xde",
        "outputId": "e3516c71-5b21-4bbb-d08b-b93559bca567"
      },
      "execution_count": null,
      "outputs": [
        {
          "output_type": "display_data",
          "data": {
            "text/plain": [
              "<Figure size 432x288 with 1 Axes>"
            ],
            "image/png": "[encoded data removed]"
          },
          "metadata": {
            "needs_background": "light"
          }
        },
        {
          "output_type": "stream",
          "name": "stdout",
          "text": [
            "Prediction: automobile\n",
            "Clean Label: airplane\n"
          ]
        }
      ]
    },
    {
      "cell_type": "code",
      "source": [
        "c_idx = 559\n",
        "\n",
        "plt.imshow(poison_x_test[c_idx].squeeze())\n",
        "plt.show()\n",
        "clean_label = c\n",
        "print(\"Prediction: \" + str(class_descr[poison_preds[c_idx]]))\n",
        "print(\"Clean Label: \" + str(class_descr[poison_temp[c_idx]]))"
      ],
      "metadata": {
        "colab": {
          "base_uri": "https://localhost:8080/",
          "height": 301
        },
        "id": "LIqA0Lu6-obo",
        "outputId": "837b5e6f-6ba7-4549-8919-1ee109a74b92"
      },
      "execution_count": null,
      "outputs": [
        {
          "output_type": "display_data",
          "data": {
            "text/plain": [
              "<Figure size 432x288 with 1 Axes>"
            ],
            "image/png": "[encoded data removed]"
          },
          "metadata": {
            "needs_background": "light"
          }
        },
        {
          "output_type": "stream",
          "name": "stdout",
          "text": [
            "Prediction: frog\n",
            "Clean Label: dog\n"
          ]
        }
      ]
    },
    {
      "cell_type": "code",
      "source": [
        "c_idx = 924\n",
        "\n",
        "plt.imshow(poison_x_test[c_idx].squeeze())\n",
        "plt.show()\n",
        "clean_label = c\n",
        "print(\"Prediction: \" + str(class_descr[poison_preds[c_idx]]))\n",
        "print(\"Clean Label: \" + str(class_descr[poison_temp[c_idx]]))"
      ],
      "metadata": {
        "colab": {
          "base_uri": "https://localhost:8080/",
          "height": 301
        },
        "id": "5uWRqmdv-vCe",
        "outputId": "9a7e473b-2463-4f1d-8266-0728a1e11fdd"
      },
      "execution_count": null,
      "outputs": [
        {
          "output_type": "display_data",
          "data": {
            "text/plain": [
              "<Figure size 432x288 with 1 Axes>"
            ],
            "image/png": "[encoded data removed]"
          },
          "metadata": {
            "needs_background": "light"
          }
        },
        {
          "output_type": "stream",
          "name": "stdout",
          "text": [
            "Prediction: truck\n",
            "Clean Label: ship\n"
          ]
        }
      ]
    },
    {
      "cell_type": "code",
      "source": [
        "c_idx = 850\n",
        "\n",
        "plt.imshow(poison_x_test[c_idx].squeeze())\n",
        "plt.show()\n",
        "clean_label = c\n",
        "print(\"Prediction: \" + str(class_descr[poison_preds[c_idx]]))\n",
        "print(\"Clean Label: \" + str(class_descr[poison_temp[c_idx]]))"
      ],
      "metadata": {
        "colab": {
          "base_uri": "https://localhost:8080/",
          "height": 301
        },
        "id": "hDy1J8hQ-0Vi",
        "outputId": "64b9f3ca-76d6-41c2-e891-dd7a69146e7c"
      },
      "execution_count": null,
      "outputs": [
        {
          "output_type": "display_data",
          "data": {
            "text/plain": [
              "<Figure size 432x288 with 1 Axes>"
            ],
            "image/png": "[encoded data removed]"
          },
          "metadata": {
            "needs_background": "light"
          }
        },
        {
          "output_type": "stream",
          "name": "stdout",
          "text": [
            "Prediction: ship\n",
            "Clean Label: horse\n"
          ]
        }
      ]
    },
    {
      "cell_type": "code",
      "source": [
        "c_idx = 982\n",
        "\n",
        "plt.imshow(poison_x_test[c_idx].squeeze())\n",
        "plt.show()\n",
        "clean_label = c\n",
        "print(\"Prediction: \" + str(class_descr[poison_preds[c_idx]]))\n",
        "print(\"Clean Label: \" + str(class_descr[poison_temp[c_idx]]))"
      ],
      "metadata": {
        "colab": {
          "base_uri": "https://localhost:8080/",
          "height": 301
        },
        "id": "RJ6fmPh1-5qe",
        "outputId": "b86cf207-efb6-4451-9f61-016ef2002652"
      },
      "execution_count": null,
      "outputs": [
        {
          "output_type": "display_data",
          "data": {
            "text/plain": [
              "<Figure size 432x288 with 1 Axes>"
            ],
            "image/png": "[encoded data removed]"
          },
          "metadata": {
            "needs_background": "light"
          }
        },
        {
          "output_type": "stream",
          "name": "stdout",
          "text": [
            "Prediction: truck\n",
            "Clean Label: ship\n"
          ]
        }
      ]
    },
    {
      "cell_type": "code",
      "source": [
        "print('anubhav')"
      ],
      "metadata": {
        "colab": {
          "base_uri": "https://localhost:8080/"
        },
        "id": "gX3EbCxq--F-",
        "outputId": "4c82be8b-272a-4e90-f907-e0e1abb1f14f"
      },
      "execution_count": null,
      "outputs": [
        {
          "output_type": "stream",
          "name": "stdout",
          "text": [
            "anubhav\n"
          ]
        }
      ]
    },
    {
      "cell_type": "code",
      "source": [
        "temp_model.save('/content/badnet_cifar_normal.h5')"
      ],
      "metadata": {
        "id": "HQGatxHKA556"
      },
      "execution_count": null,
      "outputs": []
    },
    {
      "cell_type": "code",
      "source": [
        "from keras.models import load_model\n",
        "kal_model = load_model('/content/badnet_cifar_at.h5')"
      ],
      "metadata": {
        "id": "YSvIW1690hZF"
      },
      "execution_count": null,
      "outputs": []
    },
    {
      "cell_type": "code",
      "source": [
        "clean_x_test = x_test[is_poison_test == 0]\n",
        "clean_y_test = y_test[is_poison_test == 0]\n",
        "clean_temp=[]\n",
        "for i in range(len(clean_y_test)):\n",
        "  for j in range(10):\n",
        "    if clean_y_test[i][j]==1:\n",
        "      clean_temp.append(j)\n",
        "print(len(clean_x_test))\n",
        "clean_preds = np.argmax(kal_model.predict(clean_x_test), axis=1)\n",
        "clean_correct = np.sum(clean_preds == np.argmax(clean_y_test, axis=1))\n",
        "clean_total = clean_y_test.shape[0]\n",
        "\n",
        "clean_acc = clean_correct / clean_total\n",
        "print(\"\\nClean test set accuracy: %.2f%%\" % (clean_acc * 100))\n",
        "\n",
        "# Display image, label, and prediction for a clean sample to show how the poisoned model classifies a clean sample\n",
        "\n",
        "c = 0 # class to display\n",
        "i = 0 # image of the class to display\n",
        "\n",
        "c_idx = 4\n",
        "\n",
        "plt.imshow(clean_x_test[c_idx].squeeze())\n",
        "plt.show()\n",
        "clean_label = c\n",
        "print(\"Prediction: \" + str(clean_preds[c_idx]))\n",
        "print(\"Clean Label: \" + str(clean_temp[c_idx]))"
      ],
      "metadata": {
        "colab": {
          "base_uri": "https://localhost:8080/",
          "height": 353
        },
        "id": "w4tkl7c-05kb",
        "outputId": "5f3e8075-8f51-4b50-aace-e46f63dbceb0"
      },
      "execution_count": null,
      "outputs": [
        {
          "output_type": "stream",
          "name": "stdout",
          "text": [
            "10000\n",
            "\n",
            "Clean test set accuracy: 51.99%\n"
          ]
        },
        {
          "output_type": "display_data",
          "data": {
            "text/plain": [
              "<Figure size 432x288 with 1 Axes>"
            ],
            "image/png": "[encoded data removed]"
          },
          "metadata": {
            "needs_background": "light"
          }
        },
        {
          "output_type": "stream",
          "name": "stdout",
          "text": [
            "Prediction: 6\n",
            "Clean Label: 6\n"
          ]
        }
      ]
    },
    {
      "cell_type": "code",
      "source": [
        "poison_x_test = x_test[is_poison_test]\n",
        "poison_y_test = y_test[is_poison_test]\n",
        "poison_temp=[]\n",
        "for i in range(len(poison_y_test)):\n",
        "  for j in range(10):\n",
        "    if poison_y_test[i][j]==1:\n",
        "      poison_temp.append((j-1+10)%10)\n",
        "poison_preds = np.argmax(kal_model.predict(poison_x_test), axis=1)\n",
        "ct=0\n",
        "for i in range(len(poison_preds)):\n",
        "  jhc=(poison_preds[i]+1)%10\n",
        "  if poison_y_test[i][jhc]==1:\n",
        "    ct+=1\n",
        "print(ct)\n",
        "print(len(poison_preds))\n",
        "print(100*ct/len(poison_preds),\" % accuracy\")"
      ],
      "metadata": {
        "colab": {
          "base_uri": "https://localhost:8080/"
        },
        "id": "hOzp7mZo1Bl6",
        "outputId": "0ad3d726-5b68-4fff-cd2b-e3d82d61e0d1"
      },
      "execution_count": null,
      "outputs": [
        {
          "output_type": "stream",
          "name": "stdout",
          "text": [
            "594\n",
            "1110\n",
            "53.513513513513516  % accuracy\n"
          ]
        }
      ]
    },
    {
      "cell_type": "code",
      "source": [
        ""
      ],
      "metadata": {
        "id": "JdEzYjQ21JL5"
      },
      "execution_count": null,
      "outputs": []
    }
  ],
  "metadata": {
    "accelerator": "GPU",
    "colab": {
      "collapsed_sections": [],
      "name": "BADNET CIFAR10.ipynb",
      "provenance": []
    },
    "kernelspec": {
      "display_name": "Python 3",
      "name": "python3"
    },
    "language_info": {
      "name": "python"
    },
    "widgets": {
      "application/vnd.jupyter.widget-state+json": {
        "2f3cff50eda44451be4e7c58c94b16b4": {
          "model_module": "@jupyter-widgets/controls",
          "model_name": "HBoxModel",
          "model_module_version": "1.5.0",
          "state": {
            "_dom_classes": [],
            "_model_module": "@jupyter-widgets/controls",
            "_model_module_version": "1.5.0",
            "_model_name": "HBoxModel",
            "_view_count": null,
            "_view_module": "@jupyter-widgets/controls",
            "_view_module_version": "1.5.0",
            "_view_name": "HBoxView",
            "box_style": "",
            "children": [
              "IPY_MODEL_684d56c57b8b41b9813149a2ef56303d",
              "IPY_MODEL_e5ed21431e0f4f5b927942b70ffdd575",
              "IPY_MODEL_250c88f566804d1db7f6cdb50472464f"
            ],
            "layout": "IPY_MODEL_1e4dbdb901df4f6cb33728546da2bff0"
          }
        },
        "684d56c57b8b41b9813149a2ef56303d": {
          "model_module": "@jupyter-widgets/controls",
          "model_name": "HTMLModel",
          "model_module_version": "1.5.0",
          "state": {
            "_dom_classes": [],
            "_model_module": "@jupyter-widgets/controls",
            "_model_module_version": "1.5.0",
            "_model_name": "HTMLModel",
            "_view_count": null,
            "_view_module": "@jupyter-widgets/controls",
            "_view_module_version": "1.5.0",
            "_view_name": "HTMLView",
            "description": "",
            "description_tooltip": null,
            "layout": "IPY_MODEL_0c26c0513b9e47bc89b87c35e64aaff0",
            "placeholder": "​",
            "style": "IPY_MODEL_d7f6b024acd84cd0ba79195cf6f338f4",
            "value": "Precompute adv samples: 100%"
          }
        },
        "e5ed21431e0f4f5b927942b70ffdd575": {
          "model_module": "@jupyter-widgets/controls",
          "model_name": "FloatProgressModel",
          "model_module_version": "1.5.0",
          "state": {
            "_dom_classes": [],
            "_model_module": "@jupyter-widgets/controls",
            "_model_module_version": "1.5.0",
            "_model_name": "FloatProgressModel",
            "_view_count": null,
            "_view_module": "@jupyter-widgets/controls",
            "_view_module_version": "1.5.0",
            "_view_name": "ProgressView",
            "bar_style": "success",
            "description": "",
            "description_tooltip": null,
            "layout": "IPY_MODEL_58d442de5c2841f592dc722e4a37bdde",
            "max": 1,
            "min": 0,
            "orientation": "horizontal",
            "style": "IPY_MODEL_8f5862b85a83446e85db0410f9b21cad",
            "value": 1
          }
        },
        "250c88f566804d1db7f6cdb50472464f": {
          "model_module": "@jupyter-widgets/controls",
          "model_name": "HTMLModel",
          "model_module_version": "1.5.0",
          "state": {
            "_dom_classes": [],
            "_model_module": "@jupyter-widgets/controls",
            "_model_module_version": "1.5.0",
            "_model_name": "HTMLModel",
            "_view_count": null,
            "_view_module": "@jupyter-widgets/controls",
            "_view_module_version": "1.5.0",
            "_view_name": "HTMLView",
            "description": "",
            "description_tooltip": null,
            "layout": "IPY_MODEL_b3112211a81c431bbfda60857e0ab771",
            "placeholder": "​",
            "style": "IPY_MODEL_e80c89ca815b4d139d946c3f03bfc3ad",
            "value": " 1/1 [00:00&lt;00:00, 30.22it/s]"
          }
        },
        "1e4dbdb901df4f6cb33728546da2bff0": {
          "model_module": "@jupyter-widgets/base",
          "model_name": "LayoutModel",
          "model_module_version": "1.2.0",
          "state": {
            "_model_module": "@jupyter-widgets/base",
            "_model_module_version": "1.2.0",
            "_model_name": "LayoutModel",
            "_view_count": null,
            "_view_module": "@jupyter-widgets/base",
            "_view_module_version": "1.2.0",
            "_view_name": "LayoutView",
            "align_content": null,
            "align_items": null,
            "align_self": null,
            "border": null,
            "bottom": null,
            "display": null,
            "flex": null,
            "flex_flow": null,
            "grid_area": null,
            "grid_auto_columns": null,
            "grid_auto_flow": null,
            "grid_auto_rows": null,
            "grid_column": null,
            "grid_gap": null,
            "grid_row": null,
            "grid_template_areas": null,
            "grid_template_columns": null,
            "grid_template_rows": null,
            "height": null,
            "justify_content": null,
            "justify_items": null,
            "left": null,
            "margin": null,
            "max_height": null,
            "max_width": null,
            "min_height": null,
            "min_width": null,
            "object_fit": null,
            "object_position": null,
            "order": null,
            "overflow": null,
            "overflow_x": null,
            "overflow_y": null,
            "padding": null,
            "right": null,
            "top": null,
            "visibility": null,
            "width": null
          }
        },
        "0c26c0513b9e47bc89b87c35e64aaff0": {
          "model_module": "@jupyter-widgets/base",
          "model_name": "LayoutModel",
          "model_module_version": "1.2.0",
          "state": {
            "_model_module": "@jupyter-widgets/base",
            "_model_module_version": "1.2.0",
            "_model_name": "LayoutModel",
            "_view_count": null,
            "_view_module": "@jupyter-widgets/base",
            "_view_module_version": "1.2.0",
            "_view_name": "LayoutView",
            "align_content": null,
            "align_items": null,
            "align_self": null,
            "border": null,
            "bottom": null,
            "display": null,
            "flex": null,
            "flex_flow": null,
            "grid_area": null,
            "grid_auto_columns": null,
            "grid_auto_flow": null,
            "grid_auto_rows": null,
            "grid_column": null,
            "grid_gap": null,
            "grid_row": null,
            "grid_template_areas": null,
            "grid_template_columns": null,
            "grid_template_rows": null,
            "height": null,
            "justify_content": null,
            "justify_items": null,
            "left": null,
            "margin": null,
            "max_height": null,
            "max_width": null,
            "min_height": null,
            "min_width": null,
            "object_fit": null,
            "object_position": null,
            "order": null,
            "overflow": null,
            "overflow_x": null,
            "overflow_y": null,
            "padding": null,
            "right": null,
            "top": null,
            "visibility": null,
            "width": null
          }
        },
        "d7f6b024acd84cd0ba79195cf6f338f4": {
          "model_module": "@jupyter-widgets/controls",
          "model_name": "DescriptionStyleModel",
          "model_module_version": "1.5.0",
          "state": {
            "_model_module": "@jupyter-widgets/controls",
            "_model_module_version": "1.5.0",
            "_model_name": "DescriptionStyleModel",
            "_view_count": null,
            "_view_module": "@jupyter-widgets/base",
            "_view_module_version": "1.2.0",
            "_view_name": "StyleView",
            "description_width": ""
          }
        },
        "58d442de5c2841f592dc722e4a37bdde": {
          "model_module": "@jupyter-widgets/base",
          "model_name": "LayoutModel",
          "model_module_version": "1.2.0",
          "state": {
            "_model_module": "@jupyter-widgets/base",
            "_model_module_version": "1.2.0",
            "_model_name": "LayoutModel",
            "_view_count": null,
            "_view_module": "@jupyter-widgets/base",
            "_view_module_version": "1.2.0",
            "_view_name": "LayoutView",
            "align_content": null,
            "align_items": null,
            "align_self": null,
            "border": null,
            "bottom": null,
            "display": null,
            "flex": null,
            "flex_flow": null,
            "grid_area": null,
            "grid_auto_columns": null,
            "grid_auto_flow": null,
            "grid_auto_rows": null,
            "grid_column": null,
            "grid_gap": null,
            "grid_row": null,
            "grid_template_areas": null,
            "grid_template_columns": null,
            "grid_template_rows": null,
            "height": null,
            "justify_content": null,
            "justify_items": null,
            "left": null,
            "margin": null,
            "max_height": null,
            "max_width": null,
            "min_height": null,
            "min_width": null,
            "object_fit": null,
            "object_position": null,
            "order": null,
            "overflow": null,
            "overflow_x": null,
            "overflow_y": null,
            "padding": null,
            "right": null,
            "top": null,
            "visibility": null,
            "width": null
          }
        },
        "8f5862b85a83446e85db0410f9b21cad": {
          "model_module": "@jupyter-widgets/controls",
          "model_name": "ProgressStyleModel",
          "model_module_version": "1.5.0",
          "state": {
            "_model_module": "@jupyter-widgets/controls",
            "_model_module_version": "1.5.0",
            "_model_name": "ProgressStyleModel",
            "_view_count": null,
            "_view_module": "@jupyter-widgets/base",
            "_view_module_version": "1.2.0",
            "_view_name": "StyleView",
            "bar_color": null,
            "description_width": ""
          }
        },
        "b3112211a81c431bbfda60857e0ab771": {
          "model_module": "@jupyter-widgets/base",
          "model_name": "LayoutModel",
          "model_module_version": "1.2.0",
          "state": {
            "_model_module": "@jupyter-widgets/base",
            "_model_module_version": "1.2.0",
            "_model_name": "LayoutModel",
            "_view_count": null,
            "_view_module": "@jupyter-widgets/base",
            "_view_module_version": "1.2.0",
            "_view_name": "LayoutView",
            "align_content": null,
            "align_items": null,
            "align_self": null,
            "border": null,
            "bottom": null,
            "display": null,
            "flex": null,
            "flex_flow": null,
            "grid_area": null,
            "grid_auto_columns": null,
            "grid_auto_flow": null,
            "grid_auto_rows": null,
            "grid_column": null,
            "grid_gap": null,
            "grid_row": null,
            "grid_template_areas": null,
            "grid_template_columns": null,
            "grid_template_rows": null,
            "height": null,
            "justify_content": null,
            "justify_items": null,
            "left": null,
            "margin": null,
            "max_height": null,
            "max_width": null,
            "min_height": null,
            "min_width": null,
            "object_fit": null,
            "object_position": null,
            "order": null,
            "overflow": null,
            "overflow_x": null,
            "overflow_y": null,
            "padding": null,
            "right": null,
            "top": null,
            "visibility": null,
            "width": null
          }
        },
        "e80c89ca815b4d139d946c3f03bfc3ad": {
          "model_module": "@jupyter-widgets/controls",
          "model_name": "DescriptionStyleModel",
          "model_module_version": "1.5.0",
          "state": {
            "_model_module": "@jupyter-widgets/controls",
            "_model_module_version": "1.5.0",
            "_model_name": "DescriptionStyleModel",
            "_view_count": null,
            "_view_module": "@jupyter-widgets/base",
            "_view_module_version": "1.2.0",
            "_view_name": "StyleView",
            "description_width": ""
          }
        },
        "227b10216a0f4b5fa3c9334d68a0e21f": {
          "model_module": "@jupyter-widgets/controls",
          "model_name": "HBoxModel",
          "model_module_version": "1.5.0",
          "state": {
            "_dom_classes": [],
            "_model_module": "@jupyter-widgets/controls",
            "_model_module_version": "1.5.0",
            "_model_name": "HBoxModel",
            "_view_count": null,
            "_view_module": "@jupyter-widgets/controls",
            "_view_module_version": "1.5.0",
            "_view_name": "HBoxView",
            "box_style": "",
            "children": [
              "IPY_MODEL_a2ee4e5ae9af442cb5ee00a82a5d0320",
              "IPY_MODEL_37ce699292a44b308d311f0d916f409e",
              "IPY_MODEL_9f925f9e011d4b869c171fa867c3b862"
            ],
            "layout": "IPY_MODEL_edaa3d9606e64b758e82c4199e2ad851"
          }
        },
        "a2ee4e5ae9af442cb5ee00a82a5d0320": {
          "model_module": "@jupyter-widgets/controls",
          "model_name": "HTMLModel",
          "model_module_version": "1.5.0",
          "state": {
            "_dom_classes": [],
            "_model_module": "@jupyter-widgets/controls",
            "_model_module_version": "1.5.0",
            "_model_name": "HTMLModel",
            "_view_count": null,
            "_view_module": "@jupyter-widgets/controls",
            "_view_module_version": "1.5.0",
            "_view_name": "HTMLView",
            "description": "",
            "description_tooltip": null,
            "layout": "IPY_MODEL_bc6f9cac48114451803be8fb67fface7",
            "placeholder": "​",
            "style": "IPY_MODEL_fa8ee446bff742fca2d407a0e5fc6398",
            "value": "Adversarial training epochs: 100%"
          }
        },
        "37ce699292a44b308d311f0d916f409e": {
          "model_module": "@jupyter-widgets/controls",
          "model_name": "FloatProgressModel",
          "model_module_version": "1.5.0",
          "state": {
            "_dom_classes": [],
            "_model_module": "@jupyter-widgets/controls",
            "_model_module_version": "1.5.0",
            "_model_name": "FloatProgressModel",
            "_view_count": null,
            "_view_module": "@jupyter-widgets/controls",
            "_view_module_version": "1.5.0",
            "_view_name": "ProgressView",
            "bar_style": "success",
            "description": "",
            "description_tooltip": null,
            "layout": "IPY_MODEL_f4ac85aa3fd24ff3b98b40392a8b1b56",
            "max": 40,
            "min": 0,
            "orientation": "horizontal",
            "style": "IPY_MODEL_69ce47705e9f4b09b65060f9178719cf",
            "value": 40
          }
        },
        "9f925f9e011d4b869c171fa867c3b862": {
          "model_module": "@jupyter-widgets/controls",
          "model_name": "HTMLModel",
          "model_module_version": "1.5.0",
          "state": {
            "_dom_classes": [],
            "_model_module": "@jupyter-widgets/controls",
            "_model_module_version": "1.5.0",
            "_model_name": "HTMLModel",
            "_view_count": null,
            "_view_module": "@jupyter-widgets/controls",
            "_view_module_version": "1.5.0",
            "_view_name": "HTMLView",
            "description": "",
            "description_tooltip": null,
            "layout": "IPY_MODEL_2958d285d8f741c79377c7464a4bab10",
            "placeholder": "​",
            "style": "IPY_MODEL_f0c026ec99e3464fb6ce98c5e54800c6",
            "value": " 40/40 [26:55&lt;00:00, 39.12s/it]"
          }
        },
        "edaa3d9606e64b758e82c4199e2ad851": {
          "model_module": "@jupyter-widgets/base",
          "model_name": "LayoutModel",
          "model_module_version": "1.2.0",
          "state": {
            "_model_module": "@jupyter-widgets/base",
            "_model_module_version": "1.2.0",
            "_model_name": "LayoutModel",
            "_view_count": null,
            "_view_module": "@jupyter-widgets/base",
            "_view_module_version": "1.2.0",
            "_view_name": "LayoutView",
            "align_content": null,
            "align_items": null,
            "align_self": null,
            "border": null,
            "bottom": null,
            "display": null,
            "flex": null,
            "flex_flow": null,
            "grid_area": null,
            "grid_auto_columns": null,
            "grid_auto_flow": null,
            "grid_auto_rows": null,
            "grid_column": null,
            "grid_gap": null,
            "grid_row": null,
            "grid_template_areas": null,
            "grid_template_columns": null,
            "grid_template_rows": null,
            "height": null,
            "justify_content": null,
            "justify_items": null,
            "left": null,
            "margin": null,
            "max_height": null,
            "max_width": null,
            "min_height": null,
            "min_width": null,
            "object_fit": null,
            "object_position": null,
            "order": null,
            "overflow": null,
            "overflow_x": null,
            "overflow_y": null,
            "padding": null,
            "right": null,
            "top": null,
            "visibility": null,
            "width": null
          }
        },
        "bc6f9cac48114451803be8fb67fface7": {
          "model_module": "@jupyter-widgets/base",
          "model_name": "LayoutModel",
          "model_module_version": "1.2.0",
          "state": {
            "_model_module": "@jupyter-widgets/base",
            "_model_module_version": "1.2.0",
            "_model_name": "LayoutModel",
            "_view_count": null,
            "_view_module": "@jupyter-widgets/base",
            "_view_module_version": "1.2.0",
            "_view_name": "LayoutView",
            "align_content": null,
            "align_items": null,
            "align_self": null,
            "border": null,
            "bottom": null,
            "display": null,
            "flex": null,
            "flex_flow": null,
            "grid_area": null,
            "grid_auto_columns": null,
            "grid_auto_flow": null,
            "grid_auto_rows": null,
            "grid_column": null,
            "grid_gap": null,
            "grid_row": null,
            "grid_template_areas": null,
            "grid_template_columns": null,
            "grid_template_rows": null,
            "height": null,
            "justify_content": null,
            "justify_items": null,
            "left": null,
            "margin": null,
            "max_height": null,
            "max_width": null,
            "min_height": null,
            "min_width": null,
            "object_fit": null,
            "object_position": null,
            "order": null,
            "overflow": null,
            "overflow_x": null,
            "overflow_y": null,
            "padding": null,
            "right": null,
            "top": null,
            "visibility": null,
            "width": null
          }
        },
        "fa8ee446bff742fca2d407a0e5fc6398": {
          "model_module": "@jupyter-widgets/controls",
          "model_name": "DescriptionStyleModel",
          "model_module_version": "1.5.0",
          "state": {
            "_model_module": "@jupyter-widgets/controls",
            "_model_module_version": "1.5.0",
            "_model_name": "DescriptionStyleModel",
            "_view_count": null,
            "_view_module": "@jupyter-widgets/base",
            "_view_module_version": "1.2.0",
            "_view_name": "StyleView",
            "description_width": ""
          }
        },
        "f4ac85aa3fd24ff3b98b40392a8b1b56": {
          "model_module": "@jupyter-widgets/base",
          "model_name": "LayoutModel",
          "model_module_version": "1.2.0",
          "state": {
            "_model_module": "@jupyter-widgets/base",
            "_model_module_version": "1.2.0",
            "_model_name": "LayoutModel",
            "_view_count": null,
            "_view_module": "@jupyter-widgets/base",
            "_view_module_version": "1.2.0",
            "_view_name": "LayoutView",
            "align_content": null,
            "align_items": null,
            "align_self": null,
            "border": null,
            "bottom": null,
            "display": null,
            "flex": null,
            "flex_flow": null,
            "grid_area": null,
            "grid_auto_columns": null,
            "grid_auto_flow": null,
            "grid_auto_rows": null,
            "grid_column": null,
            "grid_gap": null,
            "grid_row": null,
            "grid_template_areas": null,
            "grid_template_columns": null,
            "grid_template_rows": null,
            "height": null,
            "justify_content": null,
            "justify_items": null,
            "left": null,
            "margin": null,
            "max_height": null,
            "max_width": null,
            "min_height": null,
            "min_width": null,
            "object_fit": null,
            "object_position": null,
            "order": null,
            "overflow": null,
            "overflow_x": null,
            "overflow_y": null,
            "padding": null,
            "right": null,
            "top": null,
            "visibility": null,
            "width": null
          }
        },
        "69ce47705e9f4b09b65060f9178719cf": {
          "model_module": "@jupyter-widgets/controls",
          "model_name": "ProgressStyleModel",
          "model_module_version": "1.5.0",
          "state": {
            "_model_module": "@jupyter-widgets/controls",
            "_model_module_version": "1.5.0",
            "_model_name": "ProgressStyleModel",
            "_view_count": null,
            "_view_module": "@jupyter-widgets/base",
            "_view_module_version": "1.2.0",
            "_view_name": "StyleView",
            "bar_color": null,
            "description_width": ""
          }
        },
        "2958d285d8f741c79377c7464a4bab10": {
          "model_module": "@jupyter-widgets/base",
          "model_name": "LayoutModel",
          "model_module_version": "1.2.0",
          "state": {
            "_model_module": "@jupyter-widgets/base",
            "_model_module_version": "1.2.0",
            "_model_name": "LayoutModel",
            "_view_count": null,
            "_view_module": "@jupyter-widgets/base",
            "_view_module_version": "1.2.0",
            "_view_name": "LayoutView",
            "align_content": null,
            "align_items": null,
            "align_self": null,
            "border": null,
            "bottom": null,
            "display": null,
            "flex": null,
            "flex_flow": null,
            "grid_area": null,
            "grid_auto_columns": null,
            "grid_auto_flow": null,
            "grid_auto_rows": null,
            "grid_column": null,
            "grid_gap": null,
            "grid_row": null,
            "grid_template_areas": null,
            "grid_template_columns": null,
            "grid_template_rows": null,
            "height": null,
            "justify_content": null,
            "justify_items": null,
            "left": null,
            "margin": null,
            "max_height": null,
            "max_width": null,
            "min_height": null,
            "min_width": null,
            "object_fit": null,
            "object_position": null,
            "order": null,
            "overflow": null,
            "overflow_x": null,
            "overflow_y": null,
            "padding": null,
            "right": null,
            "top": null,
            "visibility": null,
            "width": null
          }
        },
        "f0c026ec99e3464fb6ce98c5e54800c6": {
          "model_module": "@jupyter-widgets/controls",
          "model_name": "DescriptionStyleModel",
          "model_module_version": "1.5.0",
          "state": {
            "_model_module": "@jupyter-widgets/controls",
            "_model_module_version": "1.5.0",
            "_model_name": "DescriptionStyleModel",
            "_view_count": null,
            "_view_module": "@jupyter-widgets/base",
            "_view_module_version": "1.2.0",
            "_view_name": "StyleView",
            "description_width": ""
          }
        }
      }
    }
  },
  "nbformat": 4,
  "nbformat_minor": 0
}