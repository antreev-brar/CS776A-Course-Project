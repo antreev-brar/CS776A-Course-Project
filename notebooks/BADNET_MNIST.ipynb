{
  "nbformat": 4,
  "nbformat_minor": 0,
  "metadata": {
    "colab": {
      "name": "BADNET MNIST.ipynb",
      "provenance": []
    },
    "kernelspec": {
      "name": "python3",
      "display_name": "Python 3"
    },
    "language_info": {
      "name": "python"
    },
    "accelerator": "GPU",
    "widgets": {
      "application/vnd.jupyter.widget-state+json": {
        "53b2f7a1e5b64005810179d9174ef110": {
          "model_module": "@jupyter-widgets/controls",
          "model_name": "HBoxModel",
          "model_module_version": "1.5.0",
          "state": {
            "_dom_classes": [],
            "_model_module": "@jupyter-widgets/controls",
            "_model_module_version": "1.5.0",
            "_model_name": "HBoxModel",
            "_view_count": null,
            "_view_module": "@jupyter-widgets/controls",
            "_view_module_version": "1.5.0",
            "_view_name": "HBoxView",
            "box_style": "",
            "children": [
              "IPY_MODEL_e280708f95c84b0493ad0470bae5aefa",
              "IPY_MODEL_ccdba68792b94191b37627cf3703cc2b",
              "IPY_MODEL_b7d1ce8ce541462c8c90fdd666051142"
            ],
            "layout": "IPY_MODEL_3c0c01fc518f4501829c8a00d4c7206d"
          }
        },
        "e280708f95c84b0493ad0470bae5aefa": {
          "model_module": "@jupyter-widgets/controls",
          "model_name": "HTMLModel",
          "model_module_version": "1.5.0",
          "state": {
            "_dom_classes": [],
            "_model_module": "@jupyter-widgets/controls",
            "_model_module_version": "1.5.0",
            "_model_name": "HTMLModel",
            "_view_count": null,
            "_view_module": "@jupyter-widgets/controls",
            "_view_module_version": "1.5.0",
            "_view_name": "HTMLView",
            "description": "",
            "description_tooltip": null,
            "layout": "IPY_MODEL_0a611a5c64b24b9186cb3f2f72bb7581",
            "placeholder": "​",
            "style": "IPY_MODEL_aa993838c0a94730ac4e53fcacf36260",
            "value": "Precompute adv samples: 100%"
          }
        },
        "ccdba68792b94191b37627cf3703cc2b": {
          "model_module": "@jupyter-widgets/controls",
          "model_name": "FloatProgressModel",
          "model_module_version": "1.5.0",
          "state": {
            "_dom_classes": [],
            "_model_module": "@jupyter-widgets/controls",
            "_model_module_version": "1.5.0",
            "_model_name": "FloatProgressModel",
            "_view_count": null,
            "_view_module": "@jupyter-widgets/controls",
            "_view_module_version": "1.5.0",
            "_view_name": "ProgressView",
            "bar_style": "success",
            "description": "",
            "description_tooltip": null,
            "layout": "IPY_MODEL_37263d9a87f14048a167bdcf2acb462f",
            "max": 1,
            "min": 0,
            "orientation": "horizontal",
            "style": "IPY_MODEL_d3dd135636964cd2b9625b828300b78d",
            "value": 1
          }
        },
        "b7d1ce8ce541462c8c90fdd666051142": {
          "model_module": "@jupyter-widgets/controls",
          "model_name": "HTMLModel",
          "model_module_version": "1.5.0",
          "state": {
            "_dom_classes": [],
            "_model_module": "@jupyter-widgets/controls",
            "_model_module_version": "1.5.0",
            "_model_name": "HTMLModel",
            "_view_count": null,
            "_view_module": "@jupyter-widgets/controls",
            "_view_module_version": "1.5.0",
            "_view_name": "HTMLView",
            "description": "",
            "description_tooltip": null,
            "layout": "IPY_MODEL_f7511977187848e3b10095ad8c5329d8",
            "placeholder": "​",
            "style": "IPY_MODEL_6ed5360f7d1548c284bd9f4736742df6",
            "value": " 1/1 [00:00&lt;00:00, 24.03it/s]"
          }
        },
        "3c0c01fc518f4501829c8a00d4c7206d": {
          "model_module": "@jupyter-widgets/base",
          "model_name": "LayoutModel",
          "model_module_version": "1.2.0",
          "state": {
            "_model_module": "@jupyter-widgets/base",
            "_model_module_version": "1.2.0",
            "_model_name": "LayoutModel",
            "_view_count": null,
            "_view_module": "@jupyter-widgets/base",
            "_view_module_version": "1.2.0",
            "_view_name": "LayoutView",
            "align_content": null,
            "align_items": null,
            "align_self": null,
            "border": null,
            "bottom": null,
            "display": null,
            "flex": null,
            "flex_flow": null,
            "grid_area": null,
            "grid_auto_columns": null,
            "grid_auto_flow": null,
            "grid_auto_rows": null,
            "grid_column": null,
            "grid_gap": null,
            "grid_row": null,
            "grid_template_areas": null,
            "grid_template_columns": null,
            "grid_template_rows": null,
            "height": null,
            "justify_content": null,
            "justify_items": null,
            "left": null,
            "margin": null,
            "max_height": null,
            "max_width": null,
            "min_height": null,
            "min_width": null,
            "object_fit": null,
            "object_position": null,
            "order": null,
            "overflow": null,
            "overflow_x": null,
            "overflow_y": null,
            "padding": null,
            "right": null,
            "top": null,
            "visibility": null,
            "width": null
          }
        },
        "0a611a5c64b24b9186cb3f2f72bb7581": {
          "model_module": "@jupyter-widgets/base",
          "model_name": "LayoutModel",
          "model_module_version": "1.2.0",
          "state": {
            "_model_module": "@jupyter-widgets/base",
            "_model_module_version": "1.2.0",
            "_model_name": "LayoutModel",
            "_view_count": null,
            "_view_module": "@jupyter-widgets/base",
            "_view_module_version": "1.2.0",
            "_view_name": "LayoutView",
            "align_content": null,
            "align_items": null,
            "align_self": null,
            "border": null,
            "bottom": null,
            "display": null,
            "flex": null,
            "flex_flow": null,
            "grid_area": null,
            "grid_auto_columns": null,
            "grid_auto_flow": null,
            "grid_auto_rows": null,
            "grid_column": null,
            "grid_gap": null,
            "grid_row": null,
            "grid_template_areas": null,
            "grid_template_columns": null,
            "grid_template_rows": null,
            "height": null,
            "justify_content": null,
            "justify_items": null,
            "left": null,
            "margin": null,
            "max_height": null,
            "max_width": null,
            "min_height": null,
            "min_width": null,
            "object_fit": null,
            "object_position": null,
            "order": null,
            "overflow": null,
            "overflow_x": null,
            "overflow_y": null,
            "padding": null,
            "right": null,
            "top": null,
            "visibility": null,
            "width": null
          }
        },
        "aa993838c0a94730ac4e53fcacf36260": {
          "model_module": "@jupyter-widgets/controls",
          "model_name": "DescriptionStyleModel",
          "model_module_version": "1.5.0",
          "state": {
            "_model_module": "@jupyter-widgets/controls",
            "_model_module_version": "1.5.0",
            "_model_name": "DescriptionStyleModel",
            "_view_count": null,
            "_view_module": "@jupyter-widgets/base",
            "_view_module_version": "1.2.0",
            "_view_name": "StyleView",
            "description_width": ""
          }
        },
        "37263d9a87f14048a167bdcf2acb462f": {
          "model_module": "@jupyter-widgets/base",
          "model_name": "LayoutModel",
          "model_module_version": "1.2.0",
          "state": {
            "_model_module": "@jupyter-widgets/base",
            "_model_module_version": "1.2.0",
            "_model_name": "LayoutModel",
            "_view_count": null,
            "_view_module": "@jupyter-widgets/base",
            "_view_module_version": "1.2.0",
            "_view_name": "LayoutView",
            "align_content": null,
            "align_items": null,
            "align_self": null,
            "border": null,
            "bottom": null,
            "display": null,
            "flex": null,
            "flex_flow": null,
            "grid_area": null,
            "grid_auto_columns": null,
            "grid_auto_flow": null,
            "grid_auto_rows": null,
            "grid_column": null,
            "grid_gap": null,
            "grid_row": null,
            "grid_template_areas": null,
            "grid_template_columns": null,
            "grid_template_rows": null,
            "height": null,
            "justify_content": null,
            "justify_items": null,
            "left": null,
            "margin": null,
            "max_height": null,
            "max_width": null,
            "min_height": null,
            "min_width": null,
            "object_fit": null,
            "object_position": null,
            "order": null,
            "overflow": null,
            "overflow_x": null,
            "overflow_y": null,
            "padding": null,
            "right": null,
            "top": null,
            "visibility": null,
            "width": null
          }
        },
        "d3dd135636964cd2b9625b828300b78d": {
          "model_module": "@jupyter-widgets/controls",
          "model_name": "ProgressStyleModel",
          "model_module_version": "1.5.0",
          "state": {
            "_model_module": "@jupyter-widgets/controls",
            "_model_module_version": "1.5.0",
            "_model_name": "ProgressStyleModel",
            "_view_count": null,
            "_view_module": "@jupyter-widgets/base",
            "_view_module_version": "1.2.0",
            "_view_name": "StyleView",
            "bar_color": null,
            "description_width": ""
          }
        },
        "f7511977187848e3b10095ad8c5329d8": {
          "model_module": "@jupyter-widgets/base",
          "model_name": "LayoutModel",
          "model_module_version": "1.2.0",
          "state": {
            "_model_module": "@jupyter-widgets/base",
            "_model_module_version": "1.2.0",
            "_model_name": "LayoutModel",
            "_view_count": null,
            "_view_module": "@jupyter-widgets/base",
            "_view_module_version": "1.2.0",
            "_view_name": "LayoutView",
            "align_content": null,
            "align_items": null,
            "align_self": null,
            "border": null,
            "bottom": null,
            "display": null,
            "flex": null,
            "flex_flow": null,
            "grid_area": null,
            "grid_auto_columns": null,
            "grid_auto_flow": null,
            "grid_auto_rows": null,
            "grid_column": null,
            "grid_gap": null,
            "grid_row": null,
            "grid_template_areas": null,
            "grid_template_columns": null,
            "grid_template_rows": null,
            "height": null,
            "justify_content": null,
            "justify_items": null,
            "left": null,
            "margin": null,
            "max_height": null,
            "max_width": null,
            "min_height": null,
            "min_width": null,
            "object_fit": null,
            "object_position": null,
            "order": null,
            "overflow": null,
            "overflow_x": null,
            "overflow_y": null,
            "padding": null,
            "right": null,
            "top": null,
            "visibility": null,
            "width": null
          }
        },
        "6ed5360f7d1548c284bd9f4736742df6": {
          "model_module": "@jupyter-widgets/controls",
          "model_name": "DescriptionStyleModel",
          "model_module_version": "1.5.0",
          "state": {
            "_model_module": "@jupyter-widgets/controls",
            "_model_module_version": "1.5.0",
            "_model_name": "DescriptionStyleModel",
            "_view_count": null,
            "_view_module": "@jupyter-widgets/base",
            "_view_module_version": "1.2.0",
            "_view_name": "StyleView",
            "description_width": ""
          }
        },
        "efe1514c7cea45318c07ec9fb4461ea8": {
          "model_module": "@jupyter-widgets/controls",
          "model_name": "HBoxModel",
          "model_module_version": "1.5.0",
          "state": {
            "_dom_classes": [],
            "_model_module": "@jupyter-widgets/controls",
            "_model_module_version": "1.5.0",
            "_model_name": "HBoxModel",
            "_view_count": null,
            "_view_module": "@jupyter-widgets/controls",
            "_view_module_version": "1.5.0",
            "_view_name": "HBoxView",
            "box_style": "",
            "children": [
              "IPY_MODEL_a66121c7c4ad4d7a899beb4ba15be6f3",
              "IPY_MODEL_7e493cf46201438587816477115fdb6c",
              "IPY_MODEL_358ac57862ba4d9cbd2cd6c47a4ad40c"
            ],
            "layout": "IPY_MODEL_caca669f313d42fcbabad36f34c55729"
          }
        },
        "a66121c7c4ad4d7a899beb4ba15be6f3": {
          "model_module": "@jupyter-widgets/controls",
          "model_name": "HTMLModel",
          "model_module_version": "1.5.0",
          "state": {
            "_dom_classes": [],
            "_model_module": "@jupyter-widgets/controls",
            "_model_module_version": "1.5.0",
            "_model_name": "HTMLModel",
            "_view_count": null,
            "_view_module": "@jupyter-widgets/controls",
            "_view_module_version": "1.5.0",
            "_view_name": "HTMLView",
            "description": "",
            "description_tooltip": null,
            "layout": "IPY_MODEL_c8e90feb69844228864e262c912683d8",
            "placeholder": "​",
            "style": "IPY_MODEL_7ac3440b2acc468292eaa8dedda2f7ba",
            "value": "Adversarial training epochs: 100%"
          }
        },
        "7e493cf46201438587816477115fdb6c": {
          "model_module": "@jupyter-widgets/controls",
          "model_name": "FloatProgressModel",
          "model_module_version": "1.5.0",
          "state": {
            "_dom_classes": [],
            "_model_module": "@jupyter-widgets/controls",
            "_model_module_version": "1.5.0",
            "_model_name": "FloatProgressModel",
            "_view_count": null,
            "_view_module": "@jupyter-widgets/controls",
            "_view_module_version": "1.5.0",
            "_view_name": "ProgressView",
            "bar_style": "success",
            "description": "",
            "description_tooltip": null,
            "layout": "IPY_MODEL_6b309a8aa2e2431d864793a04866dfdf",
            "max": 20,
            "min": 0,
            "orientation": "horizontal",
            "style": "IPY_MODEL_31a858c9f5f5400090bed768ed568c83",
            "value": 20
          }
        },
        "358ac57862ba4d9cbd2cd6c47a4ad40c": {
          "model_module": "@jupyter-widgets/controls",
          "model_name": "HTMLModel",
          "model_module_version": "1.5.0",
          "state": {
            "_dom_classes": [],
            "_model_module": "@jupyter-widgets/controls",
            "_model_module_version": "1.5.0",
            "_model_name": "HTMLModel",
            "_view_count": null,
            "_view_module": "@jupyter-widgets/controls",
            "_view_module_version": "1.5.0",
            "_view_name": "HTMLView",
            "description": "",
            "description_tooltip": null,
            "layout": "IPY_MODEL_2a1be2e64479484f8c703ce0ad6a257f",
            "placeholder": "​",
            "style": "IPY_MODEL_3f97d4d02df440ab89301ad82159188d",
            "value": " 20/20 [35:28&lt;00:00, 104.75s/it]"
          }
        },
        "caca669f313d42fcbabad36f34c55729": {
          "model_module": "@jupyter-widgets/base",
          "model_name": "LayoutModel",
          "model_module_version": "1.2.0",
          "state": {
            "_model_module": "@jupyter-widgets/base",
            "_model_module_version": "1.2.0",
            "_model_name": "LayoutModel",
            "_view_count": null,
            "_view_module": "@jupyter-widgets/base",
            "_view_module_version": "1.2.0",
            "_view_name": "LayoutView",
            "align_content": null,
            "align_items": null,
            "align_self": null,
            "border": null,
            "bottom": null,
            "display": null,
            "flex": null,
            "flex_flow": null,
            "grid_area": null,
            "grid_auto_columns": null,
            "grid_auto_flow": null,
            "grid_auto_rows": null,
            "grid_column": null,
            "grid_gap": null,
            "grid_row": null,
            "grid_template_areas": null,
            "grid_template_columns": null,
            "grid_template_rows": null,
            "height": null,
            "justify_content": null,
            "justify_items": null,
            "left": null,
            "margin": null,
            "max_height": null,
            "max_width": null,
            "min_height": null,
            "min_width": null,
            "object_fit": null,
            "object_position": null,
            "order": null,
            "overflow": null,
            "overflow_x": null,
            "overflow_y": null,
            "padding": null,
            "right": null,
            "top": null,
            "visibility": null,
            "width": null
          }
        },
        "c8e90feb69844228864e262c912683d8": {
          "model_module": "@jupyter-widgets/base",
          "model_name": "LayoutModel",
          "model_module_version": "1.2.0",
          "state": {
            "_model_module": "@jupyter-widgets/base",
            "_model_module_version": "1.2.0",
            "_model_name": "LayoutModel",
            "_view_count": null,
            "_view_module": "@jupyter-widgets/base",
            "_view_module_version": "1.2.0",
            "_view_name": "LayoutView",
            "align_content": null,
            "align_items": null,
            "align_self": null,
            "border": null,
            "bottom": null,
            "display": null,
            "flex": null,
            "flex_flow": null,
            "grid_area": null,
            "grid_auto_columns": null,
            "grid_auto_flow": null,
            "grid_auto_rows": null,
            "grid_column": null,
            "grid_gap": null,
            "grid_row": null,
            "grid_template_areas": null,
            "grid_template_columns": null,
            "grid_template_rows": null,
            "height": null,
            "justify_content": null,
            "justify_items": null,
            "left": null,
            "margin": null,
            "max_height": null,
            "max_width": null,
            "min_height": null,
            "min_width": null,
            "object_fit": null,
            "object_position": null,
            "order": null,
            "overflow": null,
            "overflow_x": null,
            "overflow_y": null,
            "padding": null,
            "right": null,
            "top": null,
            "visibility": null,
            "width": null
          }
        },
        "7ac3440b2acc468292eaa8dedda2f7ba": {
          "model_module": "@jupyter-widgets/controls",
          "model_name": "DescriptionStyleModel",
          "model_module_version": "1.5.0",
          "state": {
            "_model_module": "@jupyter-widgets/controls",
            "_model_module_version": "1.5.0",
            "_model_name": "DescriptionStyleModel",
            "_view_count": null,
            "_view_module": "@jupyter-widgets/base",
            "_view_module_version": "1.2.0",
            "_view_name": "StyleView",
            "description_width": ""
          }
        },
        "6b309a8aa2e2431d864793a04866dfdf": {
          "model_module": "@jupyter-widgets/base",
          "model_name": "LayoutModel",
          "model_module_version": "1.2.0",
          "state": {
            "_model_module": "@jupyter-widgets/base",
            "_model_module_version": "1.2.0",
            "_model_name": "LayoutModel",
            "_view_count": null,
            "_view_module": "@jupyter-widgets/base",
            "_view_module_version": "1.2.0",
            "_view_name": "LayoutView",
            "align_content": null,
            "align_items": null,
            "align_self": null,
            "border": null,
            "bottom": null,
            "display": null,
            "flex": null,
            "flex_flow": null,
            "grid_area": null,
            "grid_auto_columns": null,
            "grid_auto_flow": null,
            "grid_auto_rows": null,
            "grid_column": null,
            "grid_gap": null,
            "grid_row": null,
            "grid_template_areas": null,
            "grid_template_columns": null,
            "grid_template_rows": null,
            "height": null,
            "justify_content": null,
            "justify_items": null,
            "left": null,
            "margin": null,
            "max_height": null,
            "max_width": null,
            "min_height": null,
            "min_width": null,
            "object_fit": null,
            "object_position": null,
            "order": null,
            "overflow": null,
            "overflow_x": null,
            "overflow_y": null,
            "padding": null,
            "right": null,
            "top": null,
            "visibility": null,
            "width": null
          }
        },
        "31a858c9f5f5400090bed768ed568c83": {
          "model_module": "@jupyter-widgets/controls",
          "model_name": "ProgressStyleModel",
          "model_module_version": "1.5.0",
          "state": {
            "_model_module": "@jupyter-widgets/controls",
            "_model_module_version": "1.5.0",
            "_model_name": "ProgressStyleModel",
            "_view_count": null,
            "_view_module": "@jupyter-widgets/base",
            "_view_module_version": "1.2.0",
            "_view_name": "StyleView",
            "bar_color": null,
            "description_width": ""
          }
        },
        "2a1be2e64479484f8c703ce0ad6a257f": {
          "model_module": "@jupyter-widgets/base",
          "model_name": "LayoutModel",
          "model_module_version": "1.2.0",
          "state": {
            "_model_module": "@jupyter-widgets/base",
            "_model_module_version": "1.2.0",
            "_model_name": "LayoutModel",
            "_view_count": null,
            "_view_module": "@jupyter-widgets/base",
            "_view_module_version": "1.2.0",
            "_view_name": "LayoutView",
            "align_content": null,
            "align_items": null,
            "align_self": null,
            "border": null,
            "bottom": null,
            "display": null,
            "flex": null,
            "flex_flow": null,
            "grid_area": null,
            "grid_auto_columns": null,
            "grid_auto_flow": null,
            "grid_auto_rows": null,
            "grid_column": null,
            "grid_gap": null,
            "grid_row": null,
            "grid_template_areas": null,
            "grid_template_columns": null,
            "grid_template_rows": null,
            "height": null,
            "justify_content": null,
            "justify_items": null,
            "left": null,
            "margin": null,
            "max_height": null,
            "max_width": null,
            "min_height": null,
            "min_width": null,
            "object_fit": null,
            "object_position": null,
            "order": null,
            "overflow": null,
            "overflow_x": null,
            "overflow_y": null,
            "padding": null,
            "right": null,
            "top": null,
            "visibility": null,
            "width": null
          }
        },
        "3f97d4d02df440ab89301ad82159188d": {
          "model_module": "@jupyter-widgets/controls",
          "model_name": "DescriptionStyleModel",
          "model_module_version": "1.5.0",
          "state": {
            "_model_module": "@jupyter-widgets/controls",
            "_model_module_version": "1.5.0",
            "_model_name": "DescriptionStyleModel",
            "_view_count": null,
            "_view_module": "@jupyter-widgets/base",
            "_view_module_version": "1.2.0",
            "_view_name": "StyleView",
            "description_width": ""
          }
        }
      }
    }
  },
  "cells": [
    {
      "cell_type": "code",
      "execution_count": null,
      "metadata": {
        "colab": {
          "base_uri": "https://localhost:8080/"
        },
        "id": "6YLTOrk8BtHo",
        "outputId": "77716bfb-1968-4156-cfa5-c768497c2a04"
      },
      "outputs": [
        {
          "output_type": "stream",
          "name": "stdout",
          "text": [
            "Collecting adversarial-robustness-toolbox\n",
            "  Downloading adversarial_robustness_toolbox-1.10.1-py3-none-any.whl (1.3 MB)\n",
            "\u001b[?25l\r\u001b[K     |▎                               | 10 kB 17.2 MB/s eta 0:00:01\r\u001b[K     |▌                               | 20 kB 22.8 MB/s eta 0:00:01\r\u001b[K     |▉                               | 30 kB 27.5 MB/s eta 0:00:01\r\u001b[K     |█                               | 40 kB 13.1 MB/s eta 0:00:01\r\u001b[K     |█▎                              | 51 kB 12.4 MB/s eta 0:00:01\r\u001b[K     |█▋                              | 61 kB 14.3 MB/s eta 0:00:01\r\u001b[K     |█▉                              | 71 kB 11.8 MB/s eta 0:00:01\r\u001b[K     |██                              | 81 kB 12.8 MB/s eta 0:00:01\r\u001b[K     |██▍                             | 92 kB 13.9 MB/s eta 0:00:01\r\u001b[K     |██▋                             | 102 kB 13.0 MB/s eta 0:00:01\r\u001b[K     |██▉                             | 112 kB 13.0 MB/s eta 0:00:01\r\u001b[K     |███▏                            | 122 kB 13.0 MB/s eta 0:00:01\r\u001b[K     |███▍                            | 133 kB 13.0 MB/s eta 0:00:01\r\u001b[K     |███▋                            | 143 kB 13.0 MB/s eta 0:00:01\r\u001b[K     |████                            | 153 kB 13.0 MB/s eta 0:00:01\r\u001b[K     |████▏                           | 163 kB 13.0 MB/s eta 0:00:01\r\u001b[K     |████▌                           | 174 kB 13.0 MB/s eta 0:00:01\r\u001b[K     |████▊                           | 184 kB 13.0 MB/s eta 0:00:01\r\u001b[K     |█████                           | 194 kB 13.0 MB/s eta 0:00:01\r\u001b[K     |█████▎                          | 204 kB 13.0 MB/s eta 0:00:01\r\u001b[K     |█████▌                          | 215 kB 13.0 MB/s eta 0:00:01\r\u001b[K     |█████▊                          | 225 kB 13.0 MB/s eta 0:00:01\r\u001b[K     |██████                          | 235 kB 13.0 MB/s eta 0:00:01\r\u001b[K     |██████▎                         | 245 kB 13.0 MB/s eta 0:00:01\r\u001b[K     |██████▌                         | 256 kB 13.0 MB/s eta 0:00:01\r\u001b[K     |██████▉                         | 266 kB 13.0 MB/s eta 0:00:01\r\u001b[K     |███████                         | 276 kB 13.0 MB/s eta 0:00:01\r\u001b[K     |███████▎                        | 286 kB 13.0 MB/s eta 0:00:01\r\u001b[K     |███████▋                        | 296 kB 13.0 MB/s eta 0:00:01\r\u001b[K     |███████▉                        | 307 kB 13.0 MB/s eta 0:00:01\r\u001b[K     |████████                        | 317 kB 13.0 MB/s eta 0:00:01\r\u001b[K     |████████▍                       | 327 kB 13.0 MB/s eta 0:00:01\r\u001b[K     |████████▋                       | 337 kB 13.0 MB/s eta 0:00:01\r\u001b[K     |█████████                       | 348 kB 13.0 MB/s eta 0:00:01\r\u001b[K     |█████████▏                      | 358 kB 13.0 MB/s eta 0:00:01\r\u001b[K     |█████████▍                      | 368 kB 13.0 MB/s eta 0:00:01\r\u001b[K     |█████████▊                      | 378 kB 13.0 MB/s eta 0:00:01\r\u001b[K     |██████████                      | 389 kB 13.0 MB/s eta 0:00:01\r\u001b[K     |██████████▏                     | 399 kB 13.0 MB/s eta 0:00:01\r\u001b[K     |██████████▌                     | 409 kB 13.0 MB/s eta 0:00:01\r\u001b[K     |██████████▊                     | 419 kB 13.0 MB/s eta 0:00:01\r\u001b[K     |███████████                     | 430 kB 13.0 MB/s eta 0:00:01\r\u001b[K     |███████████▎                    | 440 kB 13.0 MB/s eta 0:00:01\r\u001b[K     |███████████▌                    | 450 kB 13.0 MB/s eta 0:00:01\r\u001b[K     |███████████▊                    | 460 kB 13.0 MB/s eta 0:00:01\r\u001b[K     |████████████                    | 471 kB 13.0 MB/s eta 0:00:01\r\u001b[K     |████████████▎                   | 481 kB 13.0 MB/s eta 0:00:01\r\u001b[K     |████████████▌                   | 491 kB 13.0 MB/s eta 0:00:01\r\u001b[K     |████████████▉                   | 501 kB 13.0 MB/s eta 0:00:01\r\u001b[K     |█████████████                   | 512 kB 13.0 MB/s eta 0:00:01\r\u001b[K     |█████████████▍                  | 522 kB 13.0 MB/s eta 0:00:01\r\u001b[K     |█████████████▋                  | 532 kB 13.0 MB/s eta 0:00:01\r\u001b[K     |█████████████▉                  | 542 kB 13.0 MB/s eta 0:00:01\r\u001b[K     |██████████████▏                 | 552 kB 13.0 MB/s eta 0:00:01\r\u001b[K     |██████████████▍                 | 563 kB 13.0 MB/s eta 0:00:01\r\u001b[K     |██████████████▋                 | 573 kB 13.0 MB/s eta 0:00:01\r\u001b[K     |███████████████                 | 583 kB 13.0 MB/s eta 0:00:01\r\u001b[K     |███████████████▏                | 593 kB 13.0 MB/s eta 0:00:01\r\u001b[K     |███████████████▍                | 604 kB 13.0 MB/s eta 0:00:01\r\u001b[K     |███████████████▊                | 614 kB 13.0 MB/s eta 0:00:01\r\u001b[K     |████████████████                | 624 kB 13.0 MB/s eta 0:00:01\r\u001b[K     |████████████████▏               | 634 kB 13.0 MB/s eta 0:00:01\r\u001b[K     |████████████████▌               | 645 kB 13.0 MB/s eta 0:00:01\r\u001b[K     |████████████████▊               | 655 kB 13.0 MB/s eta 0:00:01\r\u001b[K     |█████████████████               | 665 kB 13.0 MB/s eta 0:00:01\r\u001b[K     |█████████████████▎              | 675 kB 13.0 MB/s eta 0:00:01\r\u001b[K     |█████████████████▌              | 686 kB 13.0 MB/s eta 0:00:01\r\u001b[K     |█████████████████▉              | 696 kB 13.0 MB/s eta 0:00:01\r\u001b[K     |██████████████████              | 706 kB 13.0 MB/s eta 0:00:01\r\u001b[K     |██████████████████▎             | 716 kB 13.0 MB/s eta 0:00:01\r\u001b[K     |██████████████████▋             | 727 kB 13.0 MB/s eta 0:00:01\r\u001b[K     |██████████████████▉             | 737 kB 13.0 MB/s eta 0:00:01\r\u001b[K     |███████████████████             | 747 kB 13.0 MB/s eta 0:00:01\r\u001b[K     |███████████████████▍            | 757 kB 13.0 MB/s eta 0:00:01\r\u001b[K     |███████████████████▋            | 768 kB 13.0 MB/s eta 0:00:01\r\u001b[K     |███████████████████▉            | 778 kB 13.0 MB/s eta 0:00:01\r\u001b[K     |████████████████████▏           | 788 kB 13.0 MB/s eta 0:00:01\r\u001b[K     |████████████████████▍           | 798 kB 13.0 MB/s eta 0:00:01\r\u001b[K     |████████████████████▋           | 808 kB 13.0 MB/s eta 0:00:01\r\u001b[K     |█████████████████████           | 819 kB 13.0 MB/s eta 0:00:01\r\u001b[K     |█████████████████████▏          | 829 kB 13.0 MB/s eta 0:00:01\r\u001b[K     |█████████████████████▌          | 839 kB 13.0 MB/s eta 0:00:01\r\u001b[K     |█████████████████████▊          | 849 kB 13.0 MB/s eta 0:00:01\r\u001b[K     |██████████████████████          | 860 kB 13.0 MB/s eta 0:00:01\r\u001b[K     |██████████████████████▎         | 870 kB 13.0 MB/s eta 0:00:01\r\u001b[K     |██████████████████████▌         | 880 kB 13.0 MB/s eta 0:00:01\r\u001b[K     |██████████████████████▊         | 890 kB 13.0 MB/s eta 0:00:01\r\u001b[K     |███████████████████████         | 901 kB 13.0 MB/s eta 0:00:01\r\u001b[K     |███████████████████████▎        | 911 kB 13.0 MB/s eta 0:00:01\r\u001b[K     |███████████████████████▌        | 921 kB 13.0 MB/s eta 0:00:01\r\u001b[K     |███████████████████████▉        | 931 kB 13.0 MB/s eta 0:00:01\r\u001b[K     |████████████████████████        | 942 kB 13.0 MB/s eta 0:00:01\r\u001b[K     |████████████████████████▎       | 952 kB 13.0 MB/s eta 0:00:01\r\u001b[K     |████████████████████████▋       | 962 kB 13.0 MB/s eta 0:00:01\r\u001b[K     |████████████████████████▉       | 972 kB 13.0 MB/s eta 0:00:01\r\u001b[K     |█████████████████████████       | 983 kB 13.0 MB/s eta 0:00:01\r\u001b[K     |█████████████████████████▍      | 993 kB 13.0 MB/s eta 0:00:01\r\u001b[K     |█████████████████████████▋      | 1.0 MB 13.0 MB/s eta 0:00:01\r\u001b[K     |██████████████████████████      | 1.0 MB 13.0 MB/s eta 0:00:01\r\u001b[K     |██████████████████████████▏     | 1.0 MB 13.0 MB/s eta 0:00:01\r\u001b[K     |██████████████████████████▍     | 1.0 MB 13.0 MB/s eta 0:00:01\r\u001b[K     |██████████████████████████▊     | 1.0 MB 13.0 MB/s eta 0:00:01\r\u001b[K     |███████████████████████████     | 1.1 MB 13.0 MB/s eta 0:00:01\r\u001b[K     |███████████████████████████▏    | 1.1 MB 13.0 MB/s eta 0:00:01\r\u001b[K     |███████████████████████████▌    | 1.1 MB 13.0 MB/s eta 0:00:01\r\u001b[K     |███████████████████████████▊    | 1.1 MB 13.0 MB/s eta 0:00:01\r\u001b[K     |████████████████████████████    | 1.1 MB 13.0 MB/s eta 0:00:01\r\u001b[K     |████████████████████████████▎   | 1.1 MB 13.0 MB/s eta 0:00:01\r\u001b[K     |████████████████████████████▌   | 1.1 MB 13.0 MB/s eta 0:00:01\r\u001b[K     |████████████████████████████▊   | 1.1 MB 13.0 MB/s eta 0:00:01\r\u001b[K     |█████████████████████████████   | 1.1 MB 13.0 MB/s eta 0:00:01\r\u001b[K     |█████████████████████████████▎  | 1.1 MB 13.0 MB/s eta 0:00:01\r\u001b[K     |█████████████████████████████▌  | 1.2 MB 13.0 MB/s eta 0:00:01\r\u001b[K     |█████████████████████████████▉  | 1.2 MB 13.0 MB/s eta 0:00:01\r\u001b[K     |██████████████████████████████  | 1.2 MB 13.0 MB/s eta 0:00:01\r\u001b[K     |██████████████████████████████▍ | 1.2 MB 13.0 MB/s eta 0:00:01\r\u001b[K     |██████████████████████████████▋ | 1.2 MB 13.0 MB/s eta 0:00:01\r\u001b[K     |██████████████████████████████▉ | 1.2 MB 13.0 MB/s eta 0:00:01\r\u001b[K     |███████████████████████████████▏| 1.2 MB 13.0 MB/s eta 0:00:01\r\u001b[K     |███████████████████████████████▍| 1.2 MB 13.0 MB/s eta 0:00:01\r\u001b[K     |███████████████████████████████▋| 1.2 MB 13.0 MB/s eta 0:00:01\r\u001b[K     |████████████████████████████████| 1.2 MB 13.0 MB/s eta 0:00:01\r\u001b[K     |████████████████████████████████| 1.3 MB 13.0 MB/s \n",
            "\u001b[?25hRequirement already satisfied: tensorflow in /usr/local/lib/python3.7/dist-packages (2.8.0)\n",
            "Requirement already satisfied: Keras in /usr/local/lib/python3.7/dist-packages (2.8.0)\n",
            "Requirement already satisfied: matplotlib in /usr/local/lib/python3.7/dist-packages (3.2.2)\n",
            "Requirement already satisfied: ipywidgets in /usr/local/lib/python3.7/dist-packages (7.7.0)\n",
            "Collecting numba>=0.53.1\n",
            "  Downloading numba-0.55.1-1-cp37-cp37m-manylinux2014_x86_64.manylinux_2_17_x86_64.whl (3.3 MB)\n",
            "\u001b[K     |████████████████████████████████| 3.3 MB 39.3 MB/s \n",
            "\u001b[?25hRequirement already satisfied: numpy>=1.18.0 in /usr/local/lib/python3.7/dist-packages (from adversarial-robustness-toolbox) (1.21.6)\n",
            "Requirement already satisfied: tqdm in /usr/local/lib/python3.7/dist-packages (from adversarial-robustness-toolbox) (4.64.0)\n",
            "Requirement already satisfied: scipy>=1.4.1 in /usr/local/lib/python3.7/dist-packages (from adversarial-robustness-toolbox) (1.4.1)\n",
            "Requirement already satisfied: setuptools in /usr/local/lib/python3.7/dist-packages (from adversarial-robustness-toolbox) (57.4.0)\n",
            "Requirement already satisfied: scikit-learn<1.1.0,>=0.22.2 in /usr/local/lib/python3.7/dist-packages (from adversarial-robustness-toolbox) (1.0.2)\n",
            "Requirement already satisfied: six in /usr/local/lib/python3.7/dist-packages (from adversarial-robustness-toolbox) (1.15.0)\n",
            "Collecting llvmlite<0.39,>=0.38.0rc1\n",
            "  Downloading llvmlite-0.38.0-cp37-cp37m-manylinux_2_17_x86_64.manylinux2014_x86_64.whl (34.5 MB)\n",
            "\u001b[K     |████████████████████████████████| 34.5 MB 11 kB/s \n",
            "\u001b[?25hRequirement already satisfied: joblib>=0.11 in /usr/local/lib/python3.7/dist-packages (from scikit-learn<1.1.0,>=0.22.2->adversarial-robustness-toolbox) (1.1.0)\n",
            "Requirement already satisfied: threadpoolctl>=2.0.0 in /usr/local/lib/python3.7/dist-packages (from scikit-learn<1.1.0,>=0.22.2->adversarial-robustness-toolbox) (3.1.0)\n",
            "Requirement already satisfied: tensorflow-io-gcs-filesystem>=0.23.1 in /usr/local/lib/python3.7/dist-packages (from tensorflow) (0.24.0)\n",
            "Requirement already satisfied: absl-py>=0.4.0 in /usr/local/lib/python3.7/dist-packages (from tensorflow) (1.0.0)\n",
            "Requirement already satisfied: gast>=0.2.1 in /usr/local/lib/python3.7/dist-packages (from tensorflow) (0.5.3)\n",
            "Requirement already satisfied: typing-extensions>=3.6.6 in /usr/local/lib/python3.7/dist-packages (from tensorflow) (4.1.1)\n",
            "Requirement already satisfied: termcolor>=1.1.0 in /usr/local/lib/python3.7/dist-packages (from tensorflow) (1.1.0)\n",
            "Requirement already satisfied: tensorboard<2.9,>=2.8 in /usr/local/lib/python3.7/dist-packages (from tensorflow) (2.8.0)\n",
            "Requirement already satisfied: keras-preprocessing>=1.1.1 in /usr/local/lib/python3.7/dist-packages (from tensorflow) (1.1.2)\n",
            "Requirement already satisfied: astunparse>=1.6.0 in /usr/local/lib/python3.7/dist-packages (from tensorflow) (1.6.3)\n",
            "Requirement already satisfied: libclang>=9.0.1 in /usr/local/lib/python3.7/dist-packages (from tensorflow) (13.0.0)\n",
            "Requirement already satisfied: wrapt>=1.11.0 in /usr/local/lib/python3.7/dist-packages (from tensorflow) (1.14.0)\n",
            "Requirement already satisfied: protobuf>=3.9.2 in /usr/local/lib/python3.7/dist-packages (from tensorflow) (3.17.3)\n",
            "Requirement already satisfied: grpcio<2.0,>=1.24.3 in /usr/local/lib/python3.7/dist-packages (from tensorflow) (1.44.0)\n",
            "Requirement already satisfied: flatbuffers>=1.12 in /usr/local/lib/python3.7/dist-packages (from tensorflow) (2.0)\n",
            "Requirement already satisfied: google-pasta>=0.1.1 in /usr/local/lib/python3.7/dist-packages (from tensorflow) (0.2.0)\n",
            "Requirement already satisfied: h5py>=2.9.0 in /usr/local/lib/python3.7/dist-packages (from tensorflow) (3.1.0)\n",
            "Requirement already satisfied: opt-einsum>=2.3.2 in /usr/local/lib/python3.7/dist-packages (from tensorflow) (3.3.0)\n",
            "Collecting tf-estimator-nightly==2.8.0.dev2021122109\n",
            "  Downloading tf_estimator_nightly-2.8.0.dev2021122109-py2.py3-none-any.whl (462 kB)\n",
            "\u001b[K     |████████████████████████████████| 462 kB 41.6 MB/s \n",
            "\u001b[?25hRequirement already satisfied: wheel<1.0,>=0.23.0 in /usr/local/lib/python3.7/dist-packages (from astunparse>=1.6.0->tensorflow) (0.37.1)\n",
            "Requirement already satisfied: cached-property in /usr/local/lib/python3.7/dist-packages (from h5py>=2.9.0->tensorflow) (1.5.2)\n",
            "Requirement already satisfied: markdown>=2.6.8 in /usr/local/lib/python3.7/dist-packages (from tensorboard<2.9,>=2.8->tensorflow) (3.3.6)\n",
            "Requirement already satisfied: tensorboard-data-server<0.7.0,>=0.6.0 in /usr/local/lib/python3.7/dist-packages (from tensorboard<2.9,>=2.8->tensorflow) (0.6.1)\n",
            "Requirement already satisfied: google-auth-oauthlib<0.5,>=0.4.1 in /usr/local/lib/python3.7/dist-packages (from tensorboard<2.9,>=2.8->tensorflow) (0.4.6)\n",
            "Requirement already satisfied: google-auth<3,>=1.6.3 in /usr/local/lib/python3.7/dist-packages (from tensorboard<2.9,>=2.8->tensorflow) (1.35.0)\n",
            "Requirement already satisfied: tensorboard-plugin-wit>=1.6.0 in /usr/local/lib/python3.7/dist-packages (from tensorboard<2.9,>=2.8->tensorflow) (1.8.1)\n",
            "Requirement already satisfied: requests<3,>=2.21.0 in /usr/local/lib/python3.7/dist-packages (from tensorboard<2.9,>=2.8->tensorflow) (2.23.0)\n",
            "Requirement already satisfied: werkzeug>=0.11.15 in /usr/local/lib/python3.7/dist-packages (from tensorboard<2.9,>=2.8->tensorflow) (1.0.1)\n",
            "Requirement already satisfied: rsa<5,>=3.1.4 in /usr/local/lib/python3.7/dist-packages (from google-auth<3,>=1.6.3->tensorboard<2.9,>=2.8->tensorflow) (4.8)\n",
            "Requirement already satisfied: pyasn1-modules>=0.2.1 in /usr/local/lib/python3.7/dist-packages (from google-auth<3,>=1.6.3->tensorboard<2.9,>=2.8->tensorflow) (0.2.8)\n",
            "Requirement already satisfied: cachetools<5.0,>=2.0.0 in /usr/local/lib/python3.7/dist-packages (from google-auth<3,>=1.6.3->tensorboard<2.9,>=2.8->tensorflow) (4.2.4)\n",
            "Requirement already satisfied: requests-oauthlib>=0.7.0 in /usr/local/lib/python3.7/dist-packages (from google-auth-oauthlib<0.5,>=0.4.1->tensorboard<2.9,>=2.8->tensorflow) (1.3.1)\n",
            "Requirement already satisfied: importlib-metadata>=4.4 in /usr/local/lib/python3.7/dist-packages (from markdown>=2.6.8->tensorboard<2.9,>=2.8->tensorflow) (4.11.3)\n",
            "Requirement already satisfied: zipp>=0.5 in /usr/local/lib/python3.7/dist-packages (from importlib-metadata>=4.4->markdown>=2.6.8->tensorboard<2.9,>=2.8->tensorflow) (3.8.0)\n",
            "Requirement already satisfied: pyasn1<0.5.0,>=0.4.6 in /usr/local/lib/python3.7/dist-packages (from pyasn1-modules>=0.2.1->google-auth<3,>=1.6.3->tensorboard<2.9,>=2.8->tensorflow) (0.4.8)\n",
            "Requirement already satisfied: urllib3!=1.25.0,!=1.25.1,<1.26,>=1.21.1 in /usr/local/lib/python3.7/dist-packages (from requests<3,>=2.21.0->tensorboard<2.9,>=2.8->tensorflow) (1.24.3)\n",
            "Requirement already satisfied: chardet<4,>=3.0.2 in /usr/local/lib/python3.7/dist-packages (from requests<3,>=2.21.0->tensorboard<2.9,>=2.8->tensorflow) (3.0.4)\n",
            "Requirement already satisfied: certifi>=2017.4.17 in /usr/local/lib/python3.7/dist-packages (from requests<3,>=2.21.0->tensorboard<2.9,>=2.8->tensorflow) (2021.10.8)\n",
            "Requirement already satisfied: idna<3,>=2.5 in /usr/local/lib/python3.7/dist-packages (from requests<3,>=2.21.0->tensorboard<2.9,>=2.8->tensorflow) (2.10)\n",
            "Requirement already satisfied: oauthlib>=3.0.0 in /usr/local/lib/python3.7/dist-packages (from requests-oauthlib>=0.7.0->google-auth-oauthlib<0.5,>=0.4.1->tensorboard<2.9,>=2.8->tensorflow) (3.2.0)\n",
            "Requirement already satisfied: kiwisolver>=1.0.1 in /usr/local/lib/python3.7/dist-packages (from matplotlib) (1.4.2)\n",
            "Requirement already satisfied: cycler>=0.10 in /usr/local/lib/python3.7/dist-packages (from matplotlib) (0.11.0)\n",
            "Requirement already satisfied: python-dateutil>=2.1 in /usr/local/lib/python3.7/dist-packages (from matplotlib) (2.8.2)\n",
            "Requirement already satisfied: pyparsing!=2.0.4,!=2.1.2,!=2.1.6,>=2.0.1 in /usr/local/lib/python3.7/dist-packages (from matplotlib) (3.0.8)\n",
            "Requirement already satisfied: widgetsnbextension~=3.6.0 in /usr/local/lib/python3.7/dist-packages (from ipywidgets) (3.6.0)\n",
            "Requirement already satisfied: ipykernel>=4.5.1 in /usr/local/lib/python3.7/dist-packages (from ipywidgets) (4.10.1)\n",
            "Requirement already satisfied: traitlets>=4.3.1 in /usr/local/lib/python3.7/dist-packages (from ipywidgets) (5.1.1)\n",
            "Requirement already satisfied: ipython>=4.0.0 in /usr/local/lib/python3.7/dist-packages (from ipywidgets) (5.5.0)\n",
            "Requirement already satisfied: nbformat>=4.2.0 in /usr/local/lib/python3.7/dist-packages (from ipywidgets) (5.3.0)\n",
            "Requirement already satisfied: ipython-genutils~=0.2.0 in /usr/local/lib/python3.7/dist-packages (from ipywidgets) (0.2.0)\n",
            "Requirement already satisfied: jupyterlab-widgets>=1.0.0 in /usr/local/lib/python3.7/dist-packages (from ipywidgets) (1.1.0)\n",
            "Requirement already satisfied: jupyter-client in /usr/local/lib/python3.7/dist-packages (from ipykernel>=4.5.1->ipywidgets) (5.3.5)\n",
            "Requirement already satisfied: tornado>=4.0 in /usr/local/lib/python3.7/dist-packages (from ipykernel>=4.5.1->ipywidgets) (5.1.1)\n",
            "Requirement already satisfied: pexpect in /usr/local/lib/python3.7/dist-packages (from ipython>=4.0.0->ipywidgets) (4.8.0)\n",
            "Requirement already satisfied: decorator in /usr/local/lib/python3.7/dist-packages (from ipython>=4.0.0->ipywidgets) (4.4.2)\n",
            "Requirement already satisfied: pickleshare in /usr/local/lib/python3.7/dist-packages (from ipython>=4.0.0->ipywidgets) (0.7.5)\n",
            "Requirement already satisfied: simplegeneric>0.8 in /usr/local/lib/python3.7/dist-packages (from ipython>=4.0.0->ipywidgets) (0.8.1)\n",
            "Requirement already satisfied: prompt-toolkit<2.0.0,>=1.0.4 in /usr/local/lib/python3.7/dist-packages (from ipython>=4.0.0->ipywidgets) (1.0.18)\n",
            "Requirement already satisfied: pygments in /usr/local/lib/python3.7/dist-packages (from ipython>=4.0.0->ipywidgets) (2.6.1)\n",
            "Requirement already satisfied: jupyter-core in /usr/local/lib/python3.7/dist-packages (from nbformat>=4.2.0->ipywidgets) (4.9.2)\n",
            "Requirement already satisfied: jsonschema>=2.6 in /usr/local/lib/python3.7/dist-packages (from nbformat>=4.2.0->ipywidgets) (4.3.3)\n",
            "Requirement already satisfied: fastjsonschema in /usr/local/lib/python3.7/dist-packages (from nbformat>=4.2.0->ipywidgets) (2.15.3)\n",
            "Requirement already satisfied: pyrsistent!=0.17.0,!=0.17.1,!=0.17.2,>=0.14.0 in /usr/local/lib/python3.7/dist-packages (from jsonschema>=2.6->nbformat>=4.2.0->ipywidgets) (0.18.1)\n",
            "Requirement already satisfied: attrs>=17.4.0 in /usr/local/lib/python3.7/dist-packages (from jsonschema>=2.6->nbformat>=4.2.0->ipywidgets) (21.4.0)\n",
            "Requirement already satisfied: importlib-resources>=1.4.0 in /usr/local/lib/python3.7/dist-packages (from jsonschema>=2.6->nbformat>=4.2.0->ipywidgets) (5.7.0)\n",
            "Requirement already satisfied: wcwidth in /usr/local/lib/python3.7/dist-packages (from prompt-toolkit<2.0.0,>=1.0.4->ipython>=4.0.0->ipywidgets) (0.2.5)\n",
            "Requirement already satisfied: notebook>=4.4.1 in /usr/local/lib/python3.7/dist-packages (from widgetsnbextension~=3.6.0->ipywidgets) (5.3.1)\n",
            "Requirement already satisfied: terminado>=0.8.1 in /usr/local/lib/python3.7/dist-packages (from notebook>=4.4.1->widgetsnbextension~=3.6.0->ipywidgets) (0.13.3)\n",
            "Requirement already satisfied: jinja2 in /usr/local/lib/python3.7/dist-packages (from notebook>=4.4.1->widgetsnbextension~=3.6.0->ipywidgets) (2.11.3)\n",
            "Requirement already satisfied: nbconvert in /usr/local/lib/python3.7/dist-packages (from notebook>=4.4.1->widgetsnbextension~=3.6.0->ipywidgets) (5.6.1)\n",
            "Requirement already satisfied: Send2Trash in /usr/local/lib/python3.7/dist-packages (from notebook>=4.4.1->widgetsnbextension~=3.6.0->ipywidgets) (1.8.0)\n",
            "Requirement already satisfied: pyzmq>=13 in /usr/local/lib/python3.7/dist-packages (from jupyter-client->ipykernel>=4.5.1->ipywidgets) (22.3.0)\n",
            "Requirement already satisfied: ptyprocess in /usr/local/lib/python3.7/dist-packages (from terminado>=0.8.1->notebook>=4.4.1->widgetsnbextension~=3.6.0->ipywidgets) (0.7.0)\n",
            "Requirement already satisfied: MarkupSafe>=0.23 in /usr/local/lib/python3.7/dist-packages (from jinja2->notebook>=4.4.1->widgetsnbextension~=3.6.0->ipywidgets) (2.0.1)\n",
            "Requirement already satisfied: entrypoints>=0.2.2 in /usr/local/lib/python3.7/dist-packages (from nbconvert->notebook>=4.4.1->widgetsnbextension~=3.6.0->ipywidgets) (0.4)\n",
            "Requirement already satisfied: defusedxml in /usr/local/lib/python3.7/dist-packages (from nbconvert->notebook>=4.4.1->widgetsnbextension~=3.6.0->ipywidgets) (0.7.1)\n",
            "Requirement already satisfied: testpath in /usr/local/lib/python3.7/dist-packages (from nbconvert->notebook>=4.4.1->widgetsnbextension~=3.6.0->ipywidgets) (0.6.0)\n",
            "Requirement already satisfied: bleach in /usr/local/lib/python3.7/dist-packages (from nbconvert->notebook>=4.4.1->widgetsnbextension~=3.6.0->ipywidgets) (5.0.0)\n",
            "Requirement already satisfied: pandocfilters>=1.4.1 in /usr/local/lib/python3.7/dist-packages (from nbconvert->notebook>=4.4.1->widgetsnbextension~=3.6.0->ipywidgets) (1.5.0)\n",
            "Requirement already satisfied: mistune<2,>=0.8.1 in /usr/local/lib/python3.7/dist-packages (from nbconvert->notebook>=4.4.1->widgetsnbextension~=3.6.0->ipywidgets) (0.8.4)\n",
            "Requirement already satisfied: webencodings in /usr/local/lib/python3.7/dist-packages (from bleach->nbconvert->notebook>=4.4.1->widgetsnbextension~=3.6.0->ipywidgets) (0.5.1)\n",
            "Installing collected packages: llvmlite, tf-estimator-nightly, numba, adversarial-robustness-toolbox\n",
            "  Attempting uninstall: llvmlite\n",
            "    Found existing installation: llvmlite 0.34.0\n",
            "    Uninstalling llvmlite-0.34.0:\n",
            "      Successfully uninstalled llvmlite-0.34.0\n",
            "  Attempting uninstall: numba\n",
            "    Found existing installation: numba 0.51.2\n",
            "    Uninstalling numba-0.51.2:\n",
            "      Successfully uninstalled numba-0.51.2\n",
            "Successfully installed adversarial-robustness-toolbox-1.10.1 llvmlite-0.38.0 numba-0.55.1 tf-estimator-nightly-2.8.0.dev2021122109\n"
          ]
        }
      ],
      "source": [
        "!pip3 install adversarial-robustness-toolbox tensorflow Keras matplotlib ipywidgets"
      ]
    },
    {
      "cell_type": "code",
      "source": [
        "from __future__ import absolute_import, division, print_function, unicode_literals\n",
        "\n",
        "import os, sys\n",
        "from os.path import abspath\n",
        "\n",
        "module_path = os.path.abspath(os.path.join('..'))\n",
        "if module_path not in sys.path:\n",
        "    sys.path.append(module_path)\n",
        "\n",
        "import warnings\n",
        "warnings.filterwarnings('ignore')\n",
        "\n",
        "# Disable TensorFlow eager execution:\n",
        "import tensorflow as tf\n",
        "if tf.executing_eagerly():\n",
        "    tf.compat.v1.disable_eager_execution()\n",
        "\n",
        "import keras.backend as k\n",
        "from keras.models import Sequential\n",
        "from keras.layers import Dense, Flatten, Conv2D, MaxPooling2D, Activation, Dropout\n",
        "import numpy as np\n",
        "import matplotlib.pyplot as plt\n",
        "%matplotlib inline\n",
        "from mpl_toolkits import mplot3d\n",
        "\n",
        "from art.estimators.classification import KerasClassifier\n",
        "from art.attacks.poisoning import PoisoningAttackBackdoor\n",
        "from art.attacks.poisoning.perturbations import add_pattern_bd, add_single_bd, insert_image\n",
        "from art.utils import load_mnist, preprocess\n",
        "from art.defences.detector.poison import ActivationDefence"
      ],
      "metadata": {
        "id": "T0HwfHMdCmff"
      },
      "execution_count": null,
      "outputs": []
    },
    {
      "cell_type": "code",
      "source": [
        "(x_raw, y_raw), (x_raw_test, y_raw_test), min_, max_ = load_mnist(raw=True)\n",
        "\n",
        "# Random Selection:\n",
        "n_train = np.shape(x_raw)[0]\n",
        "num_selection = 10000\n",
        "random_selection_indices = np.random.choice(n_train, num_selection)\n",
        "x_raw = x_raw[random_selection_indices]\n",
        "y_raw = y_raw[random_selection_indices]\n",
        "\n",
        "BACKDOOR_TYPE = \"pattern\" # one of ['pattern', 'pixel', 'image']"
      ],
      "metadata": {
        "id": "4JhjpoDfCtVp"
      },
      "execution_count": null,
      "outputs": []
    },
    {
      "cell_type": "code",
      "source": [
        "max_val = np.max(x_raw)\n",
        "def add_modification(x):\n",
        "        if BACKDOOR_TYPE == 'pattern':\n",
        "            return add_pattern_bd(x, pixel_value=max_val)\n",
        "        elif BACKDOOR_TYPE == 'pixel':\n",
        "            return add_single_bd(x, pixel_value=max_val) \n",
        "        elif BACKDOOR_TYPE == 'image':\n",
        "            return insert_image(x, backdoor_path='../utils/data/backdoors/alert.png', size=(10,10))\n",
        "        else:\n",
        "            raise(\"Unknown backdoor type\")"
      ],
      "metadata": {
        "id": "PGzK35tUCw2B"
      },
      "execution_count": null,
      "outputs": []
    },
    {
      "cell_type": "code",
      "source": [
        "def poison_dataset(x_clean, y_clean, percent_poison, poison_func):\n",
        "    x_poison = np.copy(x_clean)\n",
        "    y_poison = np.copy(y_clean)\n",
        "    is_poison = np.zeros(np.shape(y_poison))\n",
        "    \n",
        "    sources=np.arange(10) # 0, 1, 2, 3, ...\n",
        "    targets=(np.arange(10) + 1) % 10 # 1, 2, 3, 4, ...\n",
        "    for i, (src, tgt) in enumerate(zip(sources, targets)):\n",
        "        n_points_in_tgt = np.size(np.where(y_clean == tgt))\n",
        "        num_poison = round((percent_poison * n_points_in_tgt) / (1 - percent_poison))\n",
        "        src_imgs = x_clean[y_clean == src]\n",
        "\n",
        "        n_points_in_src = np.shape(src_imgs)[0]\n",
        "        indices_to_be_poisoned = np.random.choice(n_points_in_src, num_poison)\n",
        "\n",
        "        imgs_to_be_poisoned = np.copy(src_imgs[indices_to_be_poisoned])\n",
        "        backdoor_attack = PoisoningAttackBackdoor(poison_func)\n",
        "        imgs_to_be_poisoned, poison_labels = backdoor_attack.poison(imgs_to_be_poisoned, y=np.ones(num_poison) * tgt)\n",
        "        x_poison = np.append(x_poison, imgs_to_be_poisoned, axis=0)\n",
        "        y_poison = np.append(y_poison, poison_labels, axis=0)\n",
        "        is_poison = np.append(is_poison, np.ones(num_poison))\n",
        "\n",
        "    is_poison = is_poison != 0\n",
        "\n",
        "    return is_poison, x_poison, y_poison"
      ],
      "metadata": {
        "id": "yn1ckWj-C0qZ"
      },
      "execution_count": null,
      "outputs": []
    },
    {
      "cell_type": "code",
      "source": [
        "# Poison training data\n",
        "percent_poison = .1\n",
        "(is_poison_train, x_poisoned_raw, y_poisoned_raw) = poison_dataset(x_raw, y_raw, percent_poison, add_modification)\n",
        "x_train, y_train = preprocess(x_poisoned_raw, y_poisoned_raw)\n",
        "# Add channel axis:\n",
        "x_train = np.expand_dims(x_train, axis=3)\n",
        "\n",
        "# Poison test data\n",
        "(is_poison_test, x_poisoned_raw_test, y_poisoned_raw_test) = poison_dataset(x_raw_test, y_raw_test, percent_poison, add_modification)\n",
        "x_test, y_test = preprocess(x_poisoned_raw_test, y_poisoned_raw_test)\n",
        "# Add channel axis:\n",
        "x_test = np.expand_dims(x_test, axis=3)\n",
        "\n",
        "# Shuffle training data\n",
        "n_train = np.shape(y_train)[0]\n",
        "shuffled_indices = np.arange(n_train)\n",
        "np.random.shuffle(shuffled_indices)\n",
        "x_train = x_train[shuffled_indices]\n",
        "y_train = y_train[shuffled_indices]"
      ],
      "metadata": {
        "id": "zalH9jViC2iK"
      },
      "execution_count": null,
      "outputs": []
    },
    {
      "cell_type": "code",
      "source": [
        "model = Sequential()\n",
        "model.add(Conv2D(32, kernel_size=(3, 3), activation='relu', input_shape=x_train.shape[1:]))\n",
        "model.add(Conv2D(64, (3, 3), activation='relu'))\n",
        "model.add(MaxPooling2D(pool_size=(2, 2)))\n",
        "model.add(Dropout(0.25))\n",
        "model.add(Flatten())\n",
        "model.add(Dense(1024, activation='relu'))\n",
        "model.add(Dropout(0.5))\n",
        "model.add(Dense(10, activation='softmax'))\n",
        "\n",
        "model.compile(loss='categorical_crossentropy', optimizer='adam', metrics=['accuracy'])"
      ],
      "metadata": {
        "id": "niG1l5pJC40w"
      },
      "execution_count": null,
      "outputs": []
    },
    {
      "cell_type": "code",
      "source": [
        "warnings.filterwarnings('ignore')\n",
        "\n",
        "from art import config\n",
        "from art.utils import load_dataset, get_file\n",
        "from art.estimators.classification import KerasClassifier\n",
        "from art.attacks.evasion import FastGradientMethod\n",
        "from art.attacks.evasion import BasicIterativeMethod\n",
        "from art.defences.trainer import AdversarialTrainer\n",
        "\n",
        "import numpy as np\n",
        "\n",
        "%matplotlib inline\n",
        "import matplotlib.pyplot as plt"
      ],
      "metadata": {
        "id": "aNSoGO2DC6oO"
      },
      "execution_count": null,
      "outputs": []
    },
    {
      "cell_type": "code",
      "source": [
        "from art.attacks.evasion.projected_gradient_descent.projected_gradient_descent import ProjectedGradientDescent\n",
        "\n",
        "robust_classifier = KerasClassifier(model)"
      ],
      "metadata": {
        "id": "Znt7lhtWDGZL"
      },
      "execution_count": null,
      "outputs": []
    },
    {
      "cell_type": "code",
      "source": [
        "attacks = ProjectedGradientDescent(robust_classifier, eps=0.3, eps_step=0.01, max_iter=40)"
      ],
      "metadata": {
        "id": "oTR_Q-o_DInz"
      },
      "execution_count": null,
      "outputs": []
    },
    {
      "cell_type": "code",
      "source": [
        "trainer = AdversarialTrainer(robust_classifier, attacks, ratio=1.0)\n",
        "trainer.fit(x_train, y_train, nb_epochs=20, batch_size=250)"
      ],
      "metadata": {
        "colab": {
          "base_uri": "https://localhost:8080/",
          "height": 81,
          "referenced_widgets": [
            "53b2f7a1e5b64005810179d9174ef110",
            "e280708f95c84b0493ad0470bae5aefa",
            "ccdba68792b94191b37627cf3703cc2b",
            "b7d1ce8ce541462c8c90fdd666051142",
            "3c0c01fc518f4501829c8a00d4c7206d",
            "0a611a5c64b24b9186cb3f2f72bb7581",
            "aa993838c0a94730ac4e53fcacf36260",
            "37263d9a87f14048a167bdcf2acb462f",
            "d3dd135636964cd2b9625b828300b78d",
            "f7511977187848e3b10095ad8c5329d8",
            "6ed5360f7d1548c284bd9f4736742df6",
            "efe1514c7cea45318c07ec9fb4461ea8",
            "a66121c7c4ad4d7a899beb4ba15be6f3",
            "7e493cf46201438587816477115fdb6c",
            "358ac57862ba4d9cbd2cd6c47a4ad40c",
            "caca669f313d42fcbabad36f34c55729",
            "c8e90feb69844228864e262c912683d8",
            "7ac3440b2acc468292eaa8dedda2f7ba",
            "6b309a8aa2e2431d864793a04866dfdf",
            "31a858c9f5f5400090bed768ed568c83",
            "2a1be2e64479484f8c703ce0ad6a257f",
            "3f97d4d02df440ab89301ad82159188d"
          ]
        },
        "id": "9bKqwGJVDLYW",
        "outputId": "62e7fea8-e288-4927-91dd-e0138114f712"
      },
      "execution_count": null,
      "outputs": [
        {
          "output_type": "display_data",
          "data": {
            "text/plain": [
              "Precompute adv samples:   0%|          | 0/1 [00:00<?, ?it/s]"
            ],
            "application/vnd.jupyter.widget-view+json": {
              "version_major": 2,
              "version_minor": 0,
              "model_id": "53b2f7a1e5b64005810179d9174ef110"
            }
          },
          "metadata": {}
        },
        {
          "output_type": "display_data",
          "data": {
            "text/plain": [
              "Adversarial training epochs:   0%|          | 0/20 [00:00<?, ?it/s]"
            ],
            "application/vnd.jupyter.widget-view+json": {
              "version_major": 2,
              "version_minor": 0,
              "model_id": "efe1514c7cea45318c07ec9fb4461ea8"
            }
          },
          "metadata": {}
        }
      ]
    },
    {
      "cell_type": "code",
      "source": [
        ""
      ],
      "metadata": {
        "id": "8x06UgjzDPdz"
      },
      "execution_count": null,
      "outputs": []
    },
    {
      "cell_type": "code",
      "source": [
        "poison_x_test = x_test[is_poison_test]\n",
        "poison_y_test = y_test[is_poison_test]\n",
        "\n",
        "poison_preds = np.argmax(robust_classifier.predict(poison_x_test), axis=1)\n",
        "poison_correct = np.sum(poison_preds == np.argmax(poison_y_test, axis=1))\n",
        "poison_total = poison_y_test.shape[0]\n",
        "\n",
        "# Display image, label, and prediction for a poisoned image to see the backdoor working\n",
        "\n",
        "c = 1 # class to display\n",
        "i = 0 # image of the class to display\n",
        "\n",
        "c_idx = np.where(np.argmax(poison_y_test,1) == c)[0][i] # index of the image in poison arrays\n",
        "\n",
        "plt.imshow(poison_x_test[c_idx].squeeze())\n",
        "plt.show()\n",
        "poison_label = c\n",
        "print(\"Prediction: \" + str(poison_preds[c_idx]))\n",
        "\n",
        "poison_acc = poison_correct / poison_total\n",
        "print(\"\\n Effectiveness of poison: %.2f%%\" % (poison_acc * 100))"
      ],
      "metadata": {
        "colab": {
          "base_uri": "https://localhost:8080/",
          "height": 317
        },
        "id": "hEzDDmwqGHqh",
        "outputId": "50bde95a-db7d-4fc1-a2bc-05518c7230d7"
      },
      "execution_count": null,
      "outputs": [
        {
          "output_type": "display_data",
          "data": {
            "text/plain": [
              "<Figure size 432x288 with 1 Axes>"
            ],
            "image/png": "[encoded data removed]"
          },
          "metadata": {
            "needs_background": "light"
          }
        },
        {
          "output_type": "stream",
          "name": "stdout",
          "text": [
            "Prediction: 1\n",
            "\n",
            " Effectiveness of poison: 93.78%\n"
          ]
        }
      ]
    },
    {
      "cell_type": "code",
      "source": [
        "poison_x_test = x_test[is_poison_test]\n",
        "poison_y_test = y_test[is_poison_test]\n",
        "\n",
        "poison_preds = np.argmax(robust_classifier.predict(poison_x_test), axis=1)\n",
        "ct=0\n",
        "for i in range(len(poison_preds)):\n",
        "  jhc=(poison_preds[i]+1)%10\n",
        "  if poison_y_test[i][jhc]==1:\n",
        "    ct+=1\n",
        "print(ct)\n",
        "print(len(poison_preds))\n",
        "print(100*ct/len(poison_preds),\" % accuracy\")\n"
      ],
      "metadata": {
        "colab": {
          "base_uri": "https://localhost:8080/"
        },
        "id": "-y1QQzC9GIJq",
        "outputId": "b23b9695-1b32-4264-bad2-ba6f879362b7"
      },
      "execution_count": null,
      "outputs": [
        {
          "output_type": "stream",
          "name": "stdout",
          "text": [
            "17\n",
            "1110\n",
            "1.5315315315315314  % accuracy\n"
          ]
        }
      ]
    },
    {
      "cell_type": "code",
      "source": [
        "poison_x_test = x_test[is_poison_test==0]\n",
        "poison_y_test = y_test[is_poison_test==0]\n",
        "\n",
        "poison_preds = np.argmax(robust_classifier.predict(poison_x_test), axis=1)\n",
        "ct=0\n",
        "for i in range(len(poison_preds)):\n",
        "  jhc=(poison_preds[i])%10\n",
        "  if poison_y_test[i][jhc]==1:\n",
        "    ct+=1\n",
        "print(ct)\n",
        "print(len(poison_preds))\n",
        "print(100*ct/len(poison_preds),\" % accuracy\")\n"
      ],
      "metadata": {
        "colab": {
          "base_uri": "https://localhost:8080/"
        },
        "id": "NqkM_J2nGOcV",
        "outputId": "3640a0d3-81ca-4f3b-9cf8-4e65d7f18cb4"
      },
      "execution_count": null,
      "outputs": [
        {
          "output_type": "stream",
          "name": "stdout",
          "text": [
            "9726\n",
            "10000\n",
            "97.26  % accuracy\n"
          ]
        }
      ]
    },
    {
      "cell_type": "code",
      "source": [
        "from keras.models import load_model"
      ],
      "metadata": {
        "id": "XKlP4EKIkk-J"
      },
      "execution_count": null,
      "outputs": []
    },
    {
      "cell_type": "code",
      "source": [
        "kalyani_model = load_model('/content/madry_model.h5')"
      ],
      "metadata": {
        "id": "j8XSl5wHlohw",
        "colab": {
          "base_uri": "https://localhost:8080/",
          "height": 313
        },
        "outputId": "e02c3886-cb0f-4848-e762-22d8c9fc55be"
      },
      "execution_count": null,
      "outputs": [
        {
          "output_type": "error",
          "ename": "OSError",
          "evalue": "ignored",
          "traceback": [
            "\u001b[0;31m---------------------------------------------------------------------------\u001b[0m",
            "\u001b[0;31mOSError\u001b[0m                                   Traceback (most recent call last)",
            "\u001b[0;32m<ipython-input-16-8da9728c1428>\u001b[0m in \u001b[0;36m<module>\u001b[0;34m()\u001b[0m\n\u001b[0;32m----> 1\u001b[0;31m \u001b[0mkalyani_model\u001b[0m \u001b[0;34m=\u001b[0m \u001b[0mload_model\u001b[0m\u001b[0;34m(\u001b[0m\u001b[0;34m'/content/madry_model.h5'\u001b[0m\u001b[0;34m)\u001b[0m\u001b[0;34m\u001b[0m\u001b[0;34m\u001b[0m\u001b[0m\n\u001b[0m",
            "\u001b[0;32m/usr/local/lib/python3.7/dist-packages/keras/utils/traceback_utils.py\u001b[0m in \u001b[0;36merror_handler\u001b[0;34m(*args, **kwargs)\u001b[0m\n\u001b[1;32m     65\u001b[0m     \u001b[0;32mexcept\u001b[0m \u001b[0mException\u001b[0m \u001b[0;32mas\u001b[0m \u001b[0me\u001b[0m\u001b[0;34m:\u001b[0m  \u001b[0;31m# pylint: disable=broad-except\u001b[0m\u001b[0;34m\u001b[0m\u001b[0;34m\u001b[0m\u001b[0m\n\u001b[1;32m     66\u001b[0m       \u001b[0mfiltered_tb\u001b[0m \u001b[0;34m=\u001b[0m \u001b[0m_process_traceback_frames\u001b[0m\u001b[0;34m(\u001b[0m\u001b[0me\u001b[0m\u001b[0;34m.\u001b[0m\u001b[0m__traceback__\u001b[0m\u001b[0;34m)\u001b[0m\u001b[0;34m\u001b[0m\u001b[0;34m\u001b[0m\u001b[0m\n\u001b[0;32m---> 67\u001b[0;31m       \u001b[0;32mraise\u001b[0m \u001b[0me\u001b[0m\u001b[0;34m.\u001b[0m\u001b[0mwith_traceback\u001b[0m\u001b[0;34m(\u001b[0m\u001b[0mfiltered_tb\u001b[0m\u001b[0;34m)\u001b[0m \u001b[0;32mfrom\u001b[0m \u001b[0;32mNone\u001b[0m\u001b[0;34m\u001b[0m\u001b[0;34m\u001b[0m\u001b[0m\n\u001b[0m\u001b[1;32m     68\u001b[0m     \u001b[0;32mfinally\u001b[0m\u001b[0;34m:\u001b[0m\u001b[0;34m\u001b[0m\u001b[0;34m\u001b[0m\u001b[0m\n\u001b[1;32m     69\u001b[0m       \u001b[0;32mdel\u001b[0m \u001b[0mfiltered_tb\u001b[0m\u001b[0;34m\u001b[0m\u001b[0;34m\u001b[0m\u001b[0m\n",
            "\u001b[0;32m/usr/local/lib/python3.7/dist-packages/keras/saving/save.py\u001b[0m in \u001b[0;36mload_model\u001b[0;34m(filepath, custom_objects, compile, options)\u001b[0m\n\u001b[1;32m    202\u001b[0m         \u001b[0;32mif\u001b[0m \u001b[0misinstance\u001b[0m\u001b[0;34m(\u001b[0m\u001b[0mfilepath_str\u001b[0m\u001b[0;34m,\u001b[0m \u001b[0mstr\u001b[0m\u001b[0;34m)\u001b[0m\u001b[0;34m:\u001b[0m\u001b[0;34m\u001b[0m\u001b[0;34m\u001b[0m\u001b[0m\n\u001b[1;32m    203\u001b[0m           \u001b[0;32mif\u001b[0m \u001b[0;32mnot\u001b[0m \u001b[0mtf\u001b[0m\u001b[0;34m.\u001b[0m\u001b[0mio\u001b[0m\u001b[0;34m.\u001b[0m\u001b[0mgfile\u001b[0m\u001b[0;34m.\u001b[0m\u001b[0mexists\u001b[0m\u001b[0;34m(\u001b[0m\u001b[0mfilepath_str\u001b[0m\u001b[0;34m)\u001b[0m\u001b[0;34m:\u001b[0m\u001b[0;34m\u001b[0m\u001b[0;34m\u001b[0m\u001b[0m\n\u001b[0;32m--> 204\u001b[0;31m             \u001b[0;32mraise\u001b[0m \u001b[0mIOError\u001b[0m\u001b[0;34m(\u001b[0m\u001b[0;34mf'No file or directory found at {filepath_str}'\u001b[0m\u001b[0;34m)\u001b[0m\u001b[0;34m\u001b[0m\u001b[0;34m\u001b[0m\u001b[0m\n\u001b[0m\u001b[1;32m    205\u001b[0m \u001b[0;34m\u001b[0m\u001b[0m\n\u001b[1;32m    206\u001b[0m           \u001b[0;32mif\u001b[0m \u001b[0mtf\u001b[0m\u001b[0;34m.\u001b[0m\u001b[0mio\u001b[0m\u001b[0;34m.\u001b[0m\u001b[0mgfile\u001b[0m\u001b[0;34m.\u001b[0m\u001b[0misdir\u001b[0m\u001b[0;34m(\u001b[0m\u001b[0mfilepath_str\u001b[0m\u001b[0;34m)\u001b[0m\u001b[0;34m:\u001b[0m\u001b[0;34m\u001b[0m\u001b[0;34m\u001b[0m\u001b[0m\n",
            "\u001b[0;31mOSError\u001b[0m: No file or directory found at /content/madry_model.h5"
          ]
        }
      ]
    },
    {
      "cell_type": "code",
      "source": [
        "poison_x_test = x_test[is_poison_test]\n",
        "poison_y_test = y_test[is_poison_test]\n",
        "\n",
        "poison_preds = np.argmax(kalyani_model.predict(poison_x_test), axis=1)\n",
        "ct=0\n",
        "for i in range(len(poison_preds)):\n",
        "  jhc=(poison_preds[i]+1)%10\n",
        "  if poison_y_test[i][jhc]==1:\n",
        "    ct+=1\n",
        "print(ct)\n",
        "print(len(poison_preds))\n",
        "print(100*ct/len(poison_preds),\" % accuracy\")\n"
      ],
      "metadata": {
        "id": "kmZvIGKElxB6"
      },
      "execution_count": null,
      "outputs": []
    },
    {
      "cell_type": "code",
      "source": [
        ""
      ],
      "metadata": {
        "id": "tXUVPNBpl1IP"
      },
      "execution_count": null,
      "outputs": []
    }
  ]
}